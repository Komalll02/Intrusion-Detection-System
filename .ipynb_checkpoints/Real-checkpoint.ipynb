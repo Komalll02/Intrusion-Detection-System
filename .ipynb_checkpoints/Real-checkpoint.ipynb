{
 "cells": [
  {
   "cell_type": "code",
   "execution_count": 1,
   "id": "fb0ad55b-b83a-47d9-bf4b-0b7fe231d08a",
   "metadata": {},
   "outputs": [
    {
     "data": {
      "text/plain": [
       "\"import joblib\\n\\nscaler = joblib.load('scaler.pkl')\\nlg_model = joblib.load('lg.pkl')\\ndt_model = joblib.load('dt.pkl')\""
      ]
     },
     "execution_count": 1,
     "metadata": {},
     "output_type": "execute_result"
    }
   ],
   "source": [
    "'''import joblib\n",
    "\n",
    "scaler = joblib.load('scaler.pkl')\n",
    "lg_model = joblib.load('lg.pkl')\n",
    "dt_model = joblib.load('dt.pkl')'''"
   ]
  },
  {
   "cell_type": "code",
   "execution_count": 2,
   "id": "8216ceba-4726-486e-a236-fb40167ee665",
   "metadata": {},
   "outputs": [],
   "source": [
    "import pandas as pd\n",
    "data = pd.read_csv('real/US_REAL.csv')"
   ]
  },
  {
   "cell_type": "code",
   "execution_count": 3,
   "id": "6d16165c-2093-4f7e-9b3a-5b6352776d05",
   "metadata": {},
   "outputs": [
    {
     "data": {
      "text/plain": [
       "Index(['Flow ID', 'Src IP', 'Src Port', 'Dst IP', 'Dst Port', 'Protocol',\n",
       "       'Timestamp', 'Flow Duration', 'Total Fwd Packet', 'Total Bwd packets',\n",
       "       'Total Length of Fwd Packet', 'Total Length of Bwd Packet',\n",
       "       'Fwd Packet Length Max', 'Fwd Packet Length Min',\n",
       "       'Fwd Packet Length Mean', 'Fwd Packet Length Std',\n",
       "       'Bwd Packet Length Max', 'Bwd Packet Length Min',\n",
       "       'Bwd Packet Length Mean', 'Bwd Packet Length Std', 'Flow Bytes/s',\n",
       "       'Flow Packets/s', 'Flow IAT Mean', 'Flow IAT Std', 'Flow IAT Max',\n",
       "       'Flow IAT Min', 'Fwd IAT Total', 'Fwd IAT Mean', 'Fwd IAT Std',\n",
       "       'Fwd IAT Max', 'Fwd IAT Min', 'Bwd IAT Total', 'Bwd IAT Mean',\n",
       "       'Bwd IAT Std', 'Bwd IAT Max', 'Bwd IAT Min', 'Fwd PSH Flags',\n",
       "       'Bwd PSH Flags', 'Fwd URG Flags', 'Bwd URG Flags', 'Fwd RST Flags',\n",
       "       'Bwd RST Flags', 'Fwd Header Length', 'Bwd Header Length',\n",
       "       'Fwd Packets/s', 'Bwd Packets/s', 'Packet Length Min',\n",
       "       'Packet Length Max', 'Packet Length Mean', 'Packet Length Std',\n",
       "       'Packet Length Variance', 'FIN Flag Count', 'SYN Flag Count',\n",
       "       'RST Flag Count', 'PSH Flag Count', 'ACK Flag Count', 'URG Flag Count',\n",
       "       'CWR Flag Count', 'ECE Flag Count', 'Down/Up Ratio',\n",
       "       'Average Packet Size', 'Fwd Segment Size Avg', 'Bwd Segment Size Avg',\n",
       "       'Fwd Bytes/Bulk Avg', 'Fwd Packet/Bulk Avg', 'Fwd Bulk Rate Avg',\n",
       "       'Bwd Bytes/Bulk Avg', 'Bwd Packet/Bulk Avg', 'Bwd Bulk Rate Avg',\n",
       "       'Subflow Fwd Packets', 'Subflow Fwd Bytes', 'Subflow Bwd Packets',\n",
       "       'Subflow Bwd Bytes', 'FWD Init Win Bytes', 'Bwd Init Win Bytes',\n",
       "       'Fwd Act Data Pkts', 'Fwd Seg Size Min', 'Active Mean', 'Active Std',\n",
       "       'Active Max', 'Active Min', 'Idle Mean', 'Idle Std', 'Idle Max',\n",
       "       'Idle Min', 'ICMP Code', 'ICMP Type', 'Total TCP Flow Time', 'Label'],\n",
       "      dtype='object')"
      ]
     },
     "execution_count": 3,
     "metadata": {},
     "output_type": "execute_result"
    }
   ],
   "source": [
    "data.columns"
   ]
  },
  {
   "cell_type": "code",
   "execution_count": 4,
   "id": "18bcf674-10f7-4a22-8243-edc0095cca23",
   "metadata": {},
   "outputs": [
    {
     "data": {
      "text/plain": [
       "\"us_data = data[data['Label'].isin(['BENIGN', 'DDoS', 'Portscan', 'Web Attack - Brute Force'])]\""
      ]
     },
     "execution_count": 4,
     "metadata": {},
     "output_type": "execute_result"
    }
   ],
   "source": [
    "'''us_data = data[data['Label'].isin(['BENIGN', 'DDoS', 'Portscan', 'Web Attack - Brute Force'])]'''"
   ]
  },
  {
   "cell_type": "code",
   "execution_count": 5,
   "id": "72ea5468-dbb4-49b1-ad00-d2b270bfc464",
   "metadata": {},
   "outputs": [],
   "source": [
    "us_data = data.drop(columns=['Flow ID', 'Src IP', 'Timestamp', 'Dst IP', 'Label'])"
   ]
  },
  {
   "cell_type": "code",
   "execution_count": 6,
   "id": "e2109535-1a65-4d0e-8f33-9bec78d7f290",
   "metadata": {},
   "outputs": [
    {
     "name": "stdout",
     "output_type": "stream",
     "text": [
      "No. of rows and cols: (746, 84)\n",
      "\n",
      "Columns: Index(['Src Port', 'Dst Port', 'Protocol', 'Flow Duration', 'Total Fwd Packet',\n",
      "       'Total Bwd packets', 'Total Length of Fwd Packet',\n",
      "       'Total Length of Bwd Packet', 'Fwd Packet Length Max',\n",
      "       'Fwd Packet Length Min', 'Fwd Packet Length Mean',\n",
      "       'Fwd Packet Length Std', 'Bwd Packet Length Max',\n",
      "       'Bwd Packet Length Min', 'Bwd Packet Length Mean',\n",
      "       'Bwd Packet Length Std', 'Flow Bytes/s', 'Flow Packets/s',\n",
      "       'Flow IAT Mean', 'Flow IAT Std', 'Flow IAT Max', 'Flow IAT Min',\n",
      "       'Fwd IAT Total', 'Fwd IAT Mean', 'Fwd IAT Std', 'Fwd IAT Max',\n",
      "       'Fwd IAT Min', 'Bwd IAT Total', 'Bwd IAT Mean', 'Bwd IAT Std',\n",
      "       'Bwd IAT Max', 'Bwd IAT Min', 'Fwd PSH Flags', 'Bwd PSH Flags',\n",
      "       'Fwd URG Flags', 'Bwd URG Flags', 'Fwd RST Flags', 'Bwd RST Flags',\n",
      "       'Fwd Header Length', 'Bwd Header Length', 'Fwd Packets/s',\n",
      "       'Bwd Packets/s', 'Packet Length Min', 'Packet Length Max',\n",
      "       'Packet Length Mean', 'Packet Length Std', 'Packet Length Variance',\n",
      "       'FIN Flag Count', 'SYN Flag Count', 'RST Flag Count', 'PSH Flag Count',\n",
      "       'ACK Flag Count', 'URG Flag Count', 'CWR Flag Count', 'ECE Flag Count',\n",
      "       'Down/Up Ratio', 'Average Packet Size', 'Fwd Segment Size Avg',\n",
      "       'Bwd Segment Size Avg', 'Fwd Bytes/Bulk Avg', 'Fwd Packet/Bulk Avg',\n",
      "       'Fwd Bulk Rate Avg', 'Bwd Bytes/Bulk Avg', 'Bwd Packet/Bulk Avg',\n",
      "       'Bwd Bulk Rate Avg', 'Subflow Fwd Packets', 'Subflow Fwd Bytes',\n",
      "       'Subflow Bwd Packets', 'Subflow Bwd Bytes', 'FWD Init Win Bytes',\n",
      "       'Bwd Init Win Bytes', 'Fwd Act Data Pkts', 'Fwd Seg Size Min',\n",
      "       'Active Mean', 'Active Std', 'Active Max', 'Active Min', 'Idle Mean',\n",
      "       'Idle Std', 'Idle Max', 'Idle Min', 'ICMP Code', 'ICMP Type',\n",
      "       'Total TCP Flow Time'],\n",
      "      dtype='object')\n"
     ]
    }
   ],
   "source": [
    "print(\"No. of rows and cols:\", us_data.shape)\n",
    "print(\"\\nColumns:\", us_data.columns)"
   ]
  },
  {
   "cell_type": "code",
   "execution_count": 7,
   "id": "e7e3b69f-8bfe-459b-afe6-6e5f9ab109db",
   "metadata": {},
   "outputs": [
    {
     "data": {
      "text/plain": [
       "Index(['Flow Bytes/s', 'Flow IAT Mean', 'Flow IAT Std', 'Flow IAT Max',\n",
       "       'Flow IAT Min'],\n",
       "      dtype='object')"
      ]
     },
     "execution_count": 7,
     "metadata": {},
     "output_type": "execute_result"
    }
   ],
   "source": [
    "us_data.columns[us_data.isnull().any()]"
   ]
  },
  {
   "cell_type": "code",
   "execution_count": 8,
   "id": "174c9291-39a3-4f37-ba2b-a49abf3b2f39",
   "metadata": {},
   "outputs": [
    {
     "data": {
      "text/plain": [
       "Flow Bytes/s     682\n",
       "Flow IAT Mean    682\n",
       "Flow IAT Std     682\n",
       "Flow IAT Max     682\n",
       "Flow IAT Min     682\n",
       "dtype: int64"
      ]
     },
     "execution_count": 8,
     "metadata": {},
     "output_type": "execute_result"
    }
   ],
   "source": [
    "us_data.isnull().sum()[us_data.isnull().any()]"
   ]
  },
  {
   "cell_type": "code",
   "execution_count": 9,
   "id": "ce51abda-272f-47a3-a718-979bd96f72b4",
   "metadata": {},
   "outputs": [
    {
     "name": "stderr",
     "output_type": "stream",
     "text": [
      "C:\\Users\\SAIRAZEX\\AppData\\Local\\Temp\\ipykernel_18500\\385993871.py:1: FutureWarning: DataFrame.fillna with 'method' is deprecated and will raise in a future version. Use obj.ffill() or obj.bfill() instead.\n",
      "  us_data.fillna(method='bfill', inplace=True)\n"
     ]
    }
   ],
   "source": [
    "us_data.fillna(method='bfill', inplace=True)"
   ]
  },
  {
   "cell_type": "code",
   "execution_count": 10,
   "id": "784c1e1c-cbae-4e94-a93f-722ce9bffbcc",
   "metadata": {},
   "outputs": [
    {
     "data": {
      "text/plain": [
       "Index([], dtype='object')"
      ]
     },
     "execution_count": 10,
     "metadata": {},
     "output_type": "execute_result"
    }
   ],
   "source": [
    "us_data.columns[us_data.isnull().any()]"
   ]
  },
  {
   "cell_type": "code",
   "execution_count": 11,
   "id": "c1b31952-f594-46c3-82f9-3943154eefde",
   "metadata": {},
   "outputs": [
    {
     "name": "stdout",
     "output_type": "stream",
     "text": [
      "No. of rows and cols after removing duplicates:  (746, 84)\n"
     ]
    }
   ],
   "source": [
    "us_data = us_data.drop_duplicates()\n",
    "print(\"No. of rows and cols after removing duplicates: \", us_data.shape)"
   ]
  },
  {
   "cell_type": "code",
   "execution_count": 12,
   "id": "afa5688b-d0b5-4a48-a17a-540faaebf97f",
   "metadata": {},
   "outputs": [
    {
     "ename": "KeyError",
     "evalue": "'Label'",
     "output_type": "error",
     "traceback": [
      "\u001b[31m---------------------------------------------------------------------------\u001b[39m",
      "\u001b[31mKeyError\u001b[39m                                  Traceback (most recent call last)",
      "\u001b[36mFile \u001b[39m\u001b[32m~\\AppData\\Local\\Programs\\Python\\Python312\\Lib\\site-packages\\pandas\\core\\indexes\\base.py:3805\u001b[39m, in \u001b[36mIndex.get_loc\u001b[39m\u001b[34m(self, key)\u001b[39m\n\u001b[32m   3804\u001b[39m \u001b[38;5;28;01mtry\u001b[39;00m:\n\u001b[32m-> \u001b[39m\u001b[32m3805\u001b[39m     \u001b[38;5;28;01mreturn\u001b[39;00m \u001b[38;5;28;43mself\u001b[39;49m\u001b[43m.\u001b[49m\u001b[43m_engine\u001b[49m\u001b[43m.\u001b[49m\u001b[43mget_loc\u001b[49m\u001b[43m(\u001b[49m\u001b[43mcasted_key\u001b[49m\u001b[43m)\u001b[49m\n\u001b[32m   3806\u001b[39m \u001b[38;5;28;01mexcept\u001b[39;00m \u001b[38;5;167;01mKeyError\u001b[39;00m \u001b[38;5;28;01mas\u001b[39;00m err:\n",
      "\u001b[36mFile \u001b[39m\u001b[32mindex.pyx:167\u001b[39m, in \u001b[36mpandas._libs.index.IndexEngine.get_loc\u001b[39m\u001b[34m()\u001b[39m\n",
      "\u001b[36mFile \u001b[39m\u001b[32mindex.pyx:196\u001b[39m, in \u001b[36mpandas._libs.index.IndexEngine.get_loc\u001b[39m\u001b[34m()\u001b[39m\n",
      "\u001b[36mFile \u001b[39m\u001b[32mpandas\\\\_libs\\\\hashtable_class_helper.pxi:7081\u001b[39m, in \u001b[36mpandas._libs.hashtable.PyObjectHashTable.get_item\u001b[39m\u001b[34m()\u001b[39m\n",
      "\u001b[36mFile \u001b[39m\u001b[32mpandas\\\\_libs\\\\hashtable_class_helper.pxi:7089\u001b[39m, in \u001b[36mpandas._libs.hashtable.PyObjectHashTable.get_item\u001b[39m\u001b[34m()\u001b[39m\n",
      "\u001b[31mKeyError\u001b[39m: 'Label'",
      "\nThe above exception was the direct cause of the following exception:\n",
      "\u001b[31mKeyError\u001b[39m                                  Traceback (most recent call last)",
      "\u001b[36mCell\u001b[39m\u001b[36m \u001b[39m\u001b[32mIn[12]\u001b[39m\u001b[32m, line 1\u001b[39m\n\u001b[32m----> \u001b[39m\u001b[32m1\u001b[39m \u001b[43mus_data\u001b[49m\u001b[43m.\u001b[49m\u001b[43mloc\u001b[49m\u001b[43m[\u001b[49m\u001b[43m:\u001b[49m\u001b[43m,\u001b[49m\u001b[33;43m'\u001b[39;49m\u001b[33;43mLabel\u001b[39;49m\u001b[33;43m'\u001b[39;49m\u001b[43m]\u001b[49m.unique()\n",
      "\u001b[36mFile \u001b[39m\u001b[32m~\\AppData\\Local\\Programs\\Python\\Python312\\Lib\\site-packages\\pandas\\core\\indexing.py:1184\u001b[39m, in \u001b[36m_LocationIndexer.__getitem__\u001b[39m\u001b[34m(self, key)\u001b[39m\n\u001b[32m   1182\u001b[39m     \u001b[38;5;28;01mif\u001b[39;00m \u001b[38;5;28mself\u001b[39m._is_scalar_access(key):\n\u001b[32m   1183\u001b[39m         \u001b[38;5;28;01mreturn\u001b[39;00m \u001b[38;5;28mself\u001b[39m.obj._get_value(*key, takeable=\u001b[38;5;28mself\u001b[39m._takeable)\n\u001b[32m-> \u001b[39m\u001b[32m1184\u001b[39m     \u001b[38;5;28;01mreturn\u001b[39;00m \u001b[38;5;28;43mself\u001b[39;49m\u001b[43m.\u001b[49m\u001b[43m_getitem_tuple\u001b[49m\u001b[43m(\u001b[49m\u001b[43mkey\u001b[49m\u001b[43m)\u001b[49m\n\u001b[32m   1185\u001b[39m \u001b[38;5;28;01melse\u001b[39;00m:\n\u001b[32m   1186\u001b[39m     \u001b[38;5;66;03m# we by definition only have the 0th axis\u001b[39;00m\n\u001b[32m   1187\u001b[39m     axis = \u001b[38;5;28mself\u001b[39m.axis \u001b[38;5;129;01mor\u001b[39;00m \u001b[32m0\u001b[39m\n",
      "\u001b[36mFile \u001b[39m\u001b[32m~\\AppData\\Local\\Programs\\Python\\Python312\\Lib\\site-packages\\pandas\\core\\indexing.py:1368\u001b[39m, in \u001b[36m_LocIndexer._getitem_tuple\u001b[39m\u001b[34m(self, tup)\u001b[39m\n\u001b[32m   1366\u001b[39m \u001b[38;5;28;01mwith\u001b[39;00m suppress(IndexingError):\n\u001b[32m   1367\u001b[39m     tup = \u001b[38;5;28mself\u001b[39m._expand_ellipsis(tup)\n\u001b[32m-> \u001b[39m\u001b[32m1368\u001b[39m     \u001b[38;5;28;01mreturn\u001b[39;00m \u001b[38;5;28;43mself\u001b[39;49m\u001b[43m.\u001b[49m\u001b[43m_getitem_lowerdim\u001b[49m\u001b[43m(\u001b[49m\u001b[43mtup\u001b[49m\u001b[43m)\u001b[49m\n\u001b[32m   1370\u001b[39m \u001b[38;5;66;03m# no multi-index, so validate all of the indexers\u001b[39;00m\n\u001b[32m   1371\u001b[39m tup = \u001b[38;5;28mself\u001b[39m._validate_tuple_indexer(tup)\n",
      "\u001b[36mFile \u001b[39m\u001b[32m~\\AppData\\Local\\Programs\\Python\\Python312\\Lib\\site-packages\\pandas\\core\\indexing.py:1065\u001b[39m, in \u001b[36m_LocationIndexer._getitem_lowerdim\u001b[39m\u001b[34m(self, tup)\u001b[39m\n\u001b[32m   1061\u001b[39m \u001b[38;5;28;01mfor\u001b[39;00m i, key \u001b[38;5;129;01min\u001b[39;00m \u001b[38;5;28menumerate\u001b[39m(tup):\n\u001b[32m   1062\u001b[39m     \u001b[38;5;28;01mif\u001b[39;00m is_label_like(key):\n\u001b[32m   1063\u001b[39m         \u001b[38;5;66;03m# We don't need to check for tuples here because those are\u001b[39;00m\n\u001b[32m   1064\u001b[39m         \u001b[38;5;66;03m#  caught by the _is_nested_tuple_indexer check above.\u001b[39;00m\n\u001b[32m-> \u001b[39m\u001b[32m1065\u001b[39m         section = \u001b[38;5;28;43mself\u001b[39;49m\u001b[43m.\u001b[49m\u001b[43m_getitem_axis\u001b[49m\u001b[43m(\u001b[49m\u001b[43mkey\u001b[49m\u001b[43m,\u001b[49m\u001b[43m \u001b[49m\u001b[43maxis\u001b[49m\u001b[43m=\u001b[49m\u001b[43mi\u001b[49m\u001b[43m)\u001b[49m\n\u001b[32m   1067\u001b[39m         \u001b[38;5;66;03m# We should never have a scalar section here, because\u001b[39;00m\n\u001b[32m   1068\u001b[39m         \u001b[38;5;66;03m#  _getitem_lowerdim is only called after a check for\u001b[39;00m\n\u001b[32m   1069\u001b[39m         \u001b[38;5;66;03m#  is_scalar_access, which that would be.\u001b[39;00m\n\u001b[32m   1070\u001b[39m         \u001b[38;5;28;01mif\u001b[39;00m section.ndim == \u001b[38;5;28mself\u001b[39m.ndim:\n\u001b[32m   1071\u001b[39m             \u001b[38;5;66;03m# we're in the middle of slicing through a MultiIndex\u001b[39;00m\n\u001b[32m   1072\u001b[39m             \u001b[38;5;66;03m# revise the key wrt to `section` by inserting an _NS\u001b[39;00m\n",
      "\u001b[36mFile \u001b[39m\u001b[32m~\\AppData\\Local\\Programs\\Python\\Python312\\Lib\\site-packages\\pandas\\core\\indexing.py:1431\u001b[39m, in \u001b[36m_LocIndexer._getitem_axis\u001b[39m\u001b[34m(self, key, axis)\u001b[39m\n\u001b[32m   1429\u001b[39m \u001b[38;5;66;03m# fall thru to straight lookup\u001b[39;00m\n\u001b[32m   1430\u001b[39m \u001b[38;5;28mself\u001b[39m._validate_key(key, axis)\n\u001b[32m-> \u001b[39m\u001b[32m1431\u001b[39m \u001b[38;5;28;01mreturn\u001b[39;00m \u001b[38;5;28;43mself\u001b[39;49m\u001b[43m.\u001b[49m\u001b[43m_get_label\u001b[49m\u001b[43m(\u001b[49m\u001b[43mkey\u001b[49m\u001b[43m,\u001b[49m\u001b[43m \u001b[49m\u001b[43maxis\u001b[49m\u001b[43m=\u001b[49m\u001b[43maxis\u001b[49m\u001b[43m)\u001b[49m\n",
      "\u001b[36mFile \u001b[39m\u001b[32m~\\AppData\\Local\\Programs\\Python\\Python312\\Lib\\site-packages\\pandas\\core\\indexing.py:1381\u001b[39m, in \u001b[36m_LocIndexer._get_label\u001b[39m\u001b[34m(self, label, axis)\u001b[39m\n\u001b[32m   1379\u001b[39m \u001b[38;5;28;01mdef\u001b[39;00m\u001b[38;5;250m \u001b[39m\u001b[34m_get_label\u001b[39m(\u001b[38;5;28mself\u001b[39m, label, axis: AxisInt):\n\u001b[32m   1380\u001b[39m     \u001b[38;5;66;03m# GH#5567 this will fail if the label is not present in the axis.\u001b[39;00m\n\u001b[32m-> \u001b[39m\u001b[32m1381\u001b[39m     \u001b[38;5;28;01mreturn\u001b[39;00m \u001b[38;5;28;43mself\u001b[39;49m\u001b[43m.\u001b[49m\u001b[43mobj\u001b[49m\u001b[43m.\u001b[49m\u001b[43mxs\u001b[49m\u001b[43m(\u001b[49m\u001b[43mlabel\u001b[49m\u001b[43m,\u001b[49m\u001b[43m \u001b[49m\u001b[43maxis\u001b[49m\u001b[43m=\u001b[49m\u001b[43maxis\u001b[49m\u001b[43m)\u001b[49m\n",
      "\u001b[36mFile \u001b[39m\u001b[32m~\\AppData\\Local\\Programs\\Python\\Python312\\Lib\\site-packages\\pandas\\core\\generic.py:4287\u001b[39m, in \u001b[36mNDFrame.xs\u001b[39m\u001b[34m(self, key, axis, level, drop_level)\u001b[39m\n\u001b[32m   4285\u001b[39m \u001b[38;5;28;01mif\u001b[39;00m axis == \u001b[32m1\u001b[39m:\n\u001b[32m   4286\u001b[39m     \u001b[38;5;28;01mif\u001b[39;00m drop_level:\n\u001b[32m-> \u001b[39m\u001b[32m4287\u001b[39m         \u001b[38;5;28;01mreturn\u001b[39;00m \u001b[38;5;28;43mself\u001b[39;49m\u001b[43m[\u001b[49m\u001b[43mkey\u001b[49m\u001b[43m]\u001b[49m\n\u001b[32m   4288\u001b[39m     index = \u001b[38;5;28mself\u001b[39m.columns\n\u001b[32m   4289\u001b[39m \u001b[38;5;28;01melse\u001b[39;00m:\n",
      "\u001b[36mFile \u001b[39m\u001b[32m~\\AppData\\Local\\Programs\\Python\\Python312\\Lib\\site-packages\\pandas\\core\\frame.py:4102\u001b[39m, in \u001b[36mDataFrame.__getitem__\u001b[39m\u001b[34m(self, key)\u001b[39m\n\u001b[32m   4100\u001b[39m \u001b[38;5;28;01mif\u001b[39;00m \u001b[38;5;28mself\u001b[39m.columns.nlevels > \u001b[32m1\u001b[39m:\n\u001b[32m   4101\u001b[39m     \u001b[38;5;28;01mreturn\u001b[39;00m \u001b[38;5;28mself\u001b[39m._getitem_multilevel(key)\n\u001b[32m-> \u001b[39m\u001b[32m4102\u001b[39m indexer = \u001b[38;5;28;43mself\u001b[39;49m\u001b[43m.\u001b[49m\u001b[43mcolumns\u001b[49m\u001b[43m.\u001b[49m\u001b[43mget_loc\u001b[49m\u001b[43m(\u001b[49m\u001b[43mkey\u001b[49m\u001b[43m)\u001b[49m\n\u001b[32m   4103\u001b[39m \u001b[38;5;28;01mif\u001b[39;00m is_integer(indexer):\n\u001b[32m   4104\u001b[39m     indexer = [indexer]\n",
      "\u001b[36mFile \u001b[39m\u001b[32m~\\AppData\\Local\\Programs\\Python\\Python312\\Lib\\site-packages\\pandas\\core\\indexes\\base.py:3812\u001b[39m, in \u001b[36mIndex.get_loc\u001b[39m\u001b[34m(self, key)\u001b[39m\n\u001b[32m   3807\u001b[39m     \u001b[38;5;28;01mif\u001b[39;00m \u001b[38;5;28misinstance\u001b[39m(casted_key, \u001b[38;5;28mslice\u001b[39m) \u001b[38;5;129;01mor\u001b[39;00m (\n\u001b[32m   3808\u001b[39m         \u001b[38;5;28misinstance\u001b[39m(casted_key, abc.Iterable)\n\u001b[32m   3809\u001b[39m         \u001b[38;5;129;01mand\u001b[39;00m \u001b[38;5;28many\u001b[39m(\u001b[38;5;28misinstance\u001b[39m(x, \u001b[38;5;28mslice\u001b[39m) \u001b[38;5;28;01mfor\u001b[39;00m x \u001b[38;5;129;01min\u001b[39;00m casted_key)\n\u001b[32m   3810\u001b[39m     ):\n\u001b[32m   3811\u001b[39m         \u001b[38;5;28;01mraise\u001b[39;00m InvalidIndexError(key)\n\u001b[32m-> \u001b[39m\u001b[32m3812\u001b[39m     \u001b[38;5;28;01mraise\u001b[39;00m \u001b[38;5;167;01mKeyError\u001b[39;00m(key) \u001b[38;5;28;01mfrom\u001b[39;00m\u001b[38;5;250m \u001b[39m\u001b[34;01merr\u001b[39;00m\n\u001b[32m   3813\u001b[39m \u001b[38;5;28;01mexcept\u001b[39;00m \u001b[38;5;167;01mTypeError\u001b[39;00m:\n\u001b[32m   3814\u001b[39m     \u001b[38;5;66;03m# If we have a listlike key, _check_indexing_error will raise\u001b[39;00m\n\u001b[32m   3815\u001b[39m     \u001b[38;5;66;03m#  InvalidIndexError. Otherwise we fall through and re-raise\u001b[39;00m\n\u001b[32m   3816\u001b[39m     \u001b[38;5;66;03m#  the TypeError.\u001b[39;00m\n\u001b[32m   3817\u001b[39m     \u001b[38;5;28mself\u001b[39m._check_indexing_error(key)\n",
      "\u001b[31mKeyError\u001b[39m: 'Label'"
     ]
    }
   ],
   "source": [
    "us_data.loc[:,'Label'].unique()"
   ]
  },
  {
   "cell_type": "code",
   "execution_count": null,
   "id": "7e27bd30-afc9-4069-b77d-6be5de17f43a",
   "metadata": {},
   "outputs": [],
   "source": [
    "class_distribution = us_data['Label'].value_counts()\n",
    "class_distribution"
   ]
  },
  {
   "cell_type": "code",
   "execution_count": null,
   "id": "c091a496-9d4d-4e06-8712-6bc8f4f202b7",
   "metadata": {},
   "outputs": [],
   "source": [
    "import matplotlib.pyplot as plt\n",
    "\n",
    "class_distribution.plot(kind='bar', color='orange')\n",
    "plt.title('Class Distribution')\n",
    "plt.xlabel('Class')\n",
    "plt.ylabel('Count')\n",
    "plt.show()"
   ]
  },
  {
   "cell_type": "code",
   "execution_count": null,
   "id": "50291fbc-e270-4c1a-af1d-69f58fb8e7e9",
   "metadata": {},
   "outputs": [],
   "source": [
    "import pandas as pd\n",
    "import joblib\n",
    "\n",
    "# Load the model\n",
    "model_filename = 'StackingEnsemble.joblib'\n",
    "loaded_model = joblib.load(model_filename)\n",
    "\n",
    "# List of features in the order required by the model\n",
    "feature_order = [\n",
    "    'RST Flag Count', \n",
    "    'Fwd Packet Length Max', \n",
    "    'Packet Length Std',\n",
    "    'Total Length of Fwd Packet', \n",
    "    'Packet Length Variance', \n",
    "    'Flow Bytes/s',\n",
    "    'Fwd Packet Length Mean', \n",
    "    'FIN Flag Count', \n",
    "    'Packet Length Max',\n",
    "    'Fwd RST Flags', \n",
    "    'Fwd Segment Size Avg', \n",
    "    'Packet Length Mean',\n",
    "    'Bwd Packet Length Std', \n",
    "    'Average Packet Size', \n",
    "    'Bwd Segment Size Avg',\n",
    "    'Bwd RST Flags', \n",
    "    'Bwd Packet Length Max', \n",
    "    'Flow IAT Mean',\n",
    "    'Bwd Packet Length Mean', \n",
    "    'Subflow Bwd Bytes'\n",
    "]\n",
    "\n",
    "# Extract the relevant features for prediction\n",
    "X = us_data[feature_order]\n",
    "\n",
    "# Run prediction\n",
    "predictions = loaded_model.predict(X)\n",
    "\n",
    "# Save predictions as a new DataFrame column\n",
    "predict_df = pd.DataFrame(predictions, columns=['Predicted'])\n",
    "\n",
    "# Concatenate predictions with original data\n",
    "predict_df = pd.concat([us_data.reset_index(drop=True), predict_df], axis=1)\n",
    "\n",
    "# Save to CSV\n",
    "predict_df.to_csv('datasets/usdata_stack.csv', index=False)\n",
    "\n",
    "print(\"Predictions saved to datasets/usdata_stack.csv\")"
   ]
  },
  {
   "cell_type": "code",
   "execution_count": null,
   "id": "191a2f80-82ab-4c07-8bb8-3c4fded6c02e",
   "metadata": {},
   "outputs": [],
   "source": [
    "import pandas as pd\n",
    "from sklearn.metrics import accuracy_score\n",
    "\n",
    "actual_data = pd.read_csv('real/REAL.csv')\n",
    "predicted_data = pd.read_csv('datasets/usdata_stack.csv')\n",
    "\n",
    "actual_labels = actual_data['Label']  \n",
    "predicted_labels = predicted_data['Category']  \n",
    "\n",
    "accuracy = accuracy_score(actual_labels, predicted_labels)\n",
    "print(accuracy)"
   ]
  },
  {
   "cell_type": "code",
   "execution_count": null,
   "id": "0baa4ccd-b5af-4c4b-888c-803af58d53f4",
   "metadata": {},
   "outputs": [],
   "source": [
    "us_data.head()"
   ]
  },
  {
   "cell_type": "code",
   "execution_count": null,
   "id": "821bf9d5-30c8-4938-be3a-e1a1681cb2cc",
   "metadata": {},
   "outputs": [],
   "source": [
    "us_data.head()"
   ]
  },
  {
   "cell_type": "code",
   "execution_count": null,
   "id": "f0a6b9aa-733e-4878-b94c-562504a13ab5",
   "metadata": {},
   "outputs": [],
   "source": [
    "from sklearn.preprocessing import LabelEncoder\n",
    "\n",
    "for col in us_data.columns:\n",
    "    if us_data[col].dtype == 'object':\n",
    "        label_encoder = LabelEncoder()\n",
    "        us_data[col] = label_encoder.fit_transform(us_data[col])"
   ]
  },
  {
   "cell_type": "code",
   "execution_count": null,
   "id": "20bfe454-525e-4272-bfef-f9684cc6bd53",
   "metadata": {},
   "outputs": [],
   "source": [
    "us_data.dtypes"
   ]
  },
  {
   "cell_type": "code",
   "execution_count": null,
   "id": "407278cc-db34-4bde-8826-91d9339177bc",
   "metadata": {},
   "outputs": [],
   "source": [
    "us_data.tail(100)"
   ]
  },
  {
   "cell_type": "code",
   "execution_count": null,
   "id": "dfa402b8-39ff-4a60-8f0f-4ad18f9c1518",
   "metadata": {},
   "outputs": [],
   "source": [
    "x_us = us_data.drop(columns=['Label'], errors='ignore')"
   ]
  },
  {
   "cell_type": "code",
   "execution_count": null,
   "id": "0303c651-bcc5-4c29-90ab-f0f7e22831ca",
   "metadata": {},
   "outputs": [],
   "source": [
    "import numpy as np\n",
    "\n",
    "print(np.any(np.isnan(x_us)))  # Check for NaN values\n",
    "print(np.any(np.isinf(x_us)))  # Check for infinite values"
   ]
  },
  {
   "cell_type": "code",
   "execution_count": null,
   "id": "35854be0-e805-429c-b7a4-3dcc0d997392",
   "metadata": {},
   "outputs": [],
   "source": [
    "x_us.replace([np.inf, -np.inf], np.nan, inplace=True)  # Replace infinite with NaN\n",
    "x_us.fillna(x_us.mean(), inplace=True)   # Fill NaNs after replacing infinities"
   ]
  },
  {
   "cell_type": "code",
   "execution_count": null,
   "id": "3eb2e0c8-3e16-4825-a458-41059a56d661",
   "metadata": {},
   "outputs": [],
   "source": [
    "x_us = scaler.transform(x_us)"
   ]
  },
  {
   "cell_type": "code",
   "execution_count": null,
   "id": "48c84e74-f80e-4b18-9c8c-619740def155",
   "metadata": {},
   "outputs": [],
   "source": [
    "#LOG REGRESS: Make predictions on the unseen data\n",
    "y_us_pred = lg_model.predict(x_us)"
   ]
  },
  {
   "cell_type": "code",
   "execution_count": null,
   "id": "3687309b-8da1-452d-9719-6a3dad457318",
   "metadata": {},
   "outputs": [],
   "source": [
    "y_us_pred"
   ]
  },
  {
   "cell_type": "code",
   "execution_count": null,
   "id": "acfab97e-9fd1-482e-88ff-5b8b41ead80a",
   "metadata": {},
   "outputs": [],
   "source": [
    "label_mapping = {\n",
    "    \"BENIGN\": 0,\n",
    "    \"Portscan\": 1,\n",
    "    \"DDoS\": 2,\n",
    "    \"Web Attack - Brute Force\": 3\n",
    "}\n",
    "\n",
    "num_to_label = {v: k for k, v in label_mapping.items()}\n",
    "y_us_pred_labels = [num_to_label[pred] for pred in y_us_pred]\n",
    "y_us_pred"
   ]
  },
  {
   "cell_type": "code",
   "execution_count": null,
   "id": "f8822e8f-b92c-47e6-8cf7-a9b247472e90",
   "metadata": {},
   "outputs": [],
   "source": [
    "predict_df = pd.DataFrame({\n",
    "    'Category': y_us_pred\n",
    "})"
   ]
  },
  {
   "cell_type": "code",
   "execution_count": null,
   "id": "dc112350-cb62-4c05-9ea8-93f4b361bb81",
   "metadata": {},
   "outputs": [],
   "source": [
    "predict_df = pd.concat([us_data.reset_index(drop=True), predict_df], axis=1)\n",
    "\n",
    "predict_df.to_csv('datasets/usdata_lg.csv', index=False) "
   ]
  },
  {
   "cell_type": "code",
   "execution_count": null,
   "id": "079d308a-1716-4e9b-9ad1-0952d1bc8348",
   "metadata": {},
   "outputs": [],
   "source": [
    "'''\n",
    "#DEC TREE: Make predictions on the unseen data\n",
    "import pickle\n",
    "import xgboost as xgb\n",
    "import numpy as np\n",
    "\n",
    "# Load the saved model\n",
    "with open('xgb.pkl', 'rb') as f:\n",
    "    bst_loaded = pickle.load(f)\n",
    "\n",
    "# Prepare the unseen data (x_unseen)\n",
    "dtest_unseen = xgb.DMatrix(x_us)\n",
    "\n",
    "# Predict using the loaded model on unseen data\n",
    "y_pred_proba_unseen = bst_loaded.predict(dtest_unseen)\n",
    "y_pred_unseen = (y_pred_proba_unseen > 0.5).astype(int)\n",
    "\n",
    "# Optionally, print or return the predictions\n",
    "print(y_us_pred) '''"
   ]
  },
  {
   "cell_type": "code",
   "execution_count": null,
   "id": "ee668e20-ee40-4fea-97fd-74acb901b789",
   "metadata": {},
   "outputs": [],
   "source": [
    "#DEC TREE: Make predictions on the unseen data\n",
    "y_us_pred = dt_model.predict(x_us)"
   ]
  },
  {
   "cell_type": "code",
   "execution_count": null,
   "id": "28df59fa-6adb-4cb2-ae07-679bceca0082",
   "metadata": {},
   "outputs": [],
   "source": [
    "y_us_pred"
   ]
  },
  {
   "cell_type": "code",
   "execution_count": null,
   "id": "d9f7d119-3b29-4513-99ef-c9e158145545",
   "metadata": {},
   "outputs": [],
   "source": [
    "label_mapping = {\n",
    "    \"BENIGN\": 0,\n",
    "    \"Portscan\": 1,\n",
    "    \"DDoS\": 2,\n",
    "    \"Web Attack - Brute Force\": 3\n",
    "}\n",
    "\n",
    "# Reverse mapping\n",
    "num_to_label = {v: k for k, v in label_mapping.items()}\n",
    "\n",
    "# Convert NumPy array to list before mapping\n",
    "y_us_pred_list = y_us_pred.tolist()\n",
    "\n",
    "# Convert numeric predictions to label names\n",
    "y_us_pred_labels = [num_to_label[pred] for pred in y_us_pred_list]"
   ]
  },
  {
   "cell_type": "code",
   "execution_count": null,
   "id": "4253f0bc-7b46-489a-969e-dade22894164",
   "metadata": {},
   "outputs": [],
   "source": [
    "predict_df = pd.DataFrame({\n",
    "    'Category': y_us_pred\n",
    "})"
   ]
  },
  {
   "cell_type": "code",
   "execution_count": null,
   "id": "32f96033-e8a6-4604-a95e-ebe213d61506",
   "metadata": {},
   "outputs": [],
   "source": [
    "predict_df = pd.concat([us_data.reset_index(drop=True), predict_df], axis=1)\n",
    "\n",
    "predict_df.to_csv('datasets/usdata_dt.csv', index=False)"
   ]
  },
  {
   "cell_type": "code",
   "execution_count": null,
   "id": "15d70e8d-b316-45ce-9b87-13cdd8fa32b9",
   "metadata": {},
   "outputs": [],
   "source": [
    "import pandas as pd\n",
    "from sklearn.metrics import accuracy_score\n",
    "\n",
    "actual_data = pd.read_csv('real/REAL.csv')\n",
    "predicted_data = pd.read_csv('datasets/usdata_lg.csv')\n",
    "\n",
    "actual_labels = actual_data['Label']  \n",
    "predicted_labels = predicted_data['Category']  \n",
    "\n",
    "accuracy = accuracy_score(actual_labels, predicted_labels)\n",
    "print(accuracy)"
   ]
  },
  {
   "cell_type": "code",
   "execution_count": null,
   "id": "f6f84a9b-b401-41b9-9e80-4d59ba694f17",
   "metadata": {},
   "outputs": [],
   "source": [
    "actual_data = pd.read_csv('real/REAL.csv')\n",
    "predicted_data = pd.read_csv('datasets/usdata_dt.csv')\n",
    "\n",
    "actual_labels = actual_data['Label']  \n",
    "predicted_labels = predicted_data['Category']  \n",
    "\n",
    "accuracy = accuracy_score(actual_labels, predicted_labels)\n",
    "print(accuracy)"
   ]
  }
 ],
 "metadata": {
  "kernelspec": {
   "display_name": "Python 3 (ipykernel)",
   "language": "python",
   "name": "python3"
  },
  "language_info": {
   "codemirror_mode": {
    "name": "ipython",
    "version": 3
   },
   "file_extension": ".py",
   "mimetype": "text/x-python",
   "name": "python",
   "nbconvert_exporter": "python",
   "pygments_lexer": "ipython3",
   "version": "3.12.1"
  }
 },
 "nbformat": 4,
 "nbformat_minor": 5
}
