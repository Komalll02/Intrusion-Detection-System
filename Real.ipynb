{
 "cells": [
  {
   "cell_type": "code",
   "execution_count": 1,
   "id": "fb0ad55b-b83a-47d9-bf4b-0b7fe231d08a",
   "metadata": {},
   "outputs": [
    {
     "data": {
      "text/plain": [
       "\"import joblib\\n\\nscaler = joblib.load('scaler.pkl')\\nlg_model = joblib.load('lg.pkl')\\ndt_model = joblib.load('dt.pkl')\""
      ]
     },
     "execution_count": 1,
     "metadata": {},
     "output_type": "execute_result"
    }
   ],
   "source": [
    "'''import joblib\n",
    "\n",
    "scaler = joblib.load('scaler.pkl')\n",
    "lg_model = joblib.load('lg.pkl')\n",
    "dt_model = joblib.load('dt.pkl')'''"
   ]
  },
  {
   "cell_type": "code",
   "execution_count": 2,
   "id": "8216ceba-4726-486e-a236-fb40167ee665",
   "metadata": {},
   "outputs": [],
   "source": [
    "import pandas as pd\n",
    "data = pd.read_csv('real/US_REAL.csv')"
   ]
  },
  {
   "cell_type": "code",
   "execution_count": 3,
   "id": "6d16165c-2093-4f7e-9b3a-5b6352776d05",
   "metadata": {},
   "outputs": [
    {
     "data": {
      "text/plain": [
       "Index(['Flow ID', 'Src IP', 'Src Port', 'Dst IP', 'Dst Port', 'Protocol',\n",
       "       'Timestamp', 'Flow Duration', 'Total Fwd Packet', 'Total Bwd packets',\n",
       "       'Total Length of Fwd Packet', 'Total Length of Bwd Packet',\n",
       "       'Fwd Packet Length Max', 'Fwd Packet Length Min',\n",
       "       'Fwd Packet Length Mean', 'Fwd Packet Length Std',\n",
       "       'Bwd Packet Length Max', 'Bwd Packet Length Min',\n",
       "       'Bwd Packet Length Mean', 'Bwd Packet Length Std', 'Flow Bytes/s',\n",
       "       'Flow Packets/s', 'Flow IAT Mean', 'Flow IAT Std', 'Flow IAT Max',\n",
       "       'Flow IAT Min', 'Fwd IAT Total', 'Fwd IAT Mean', 'Fwd IAT Std',\n",
       "       'Fwd IAT Max', 'Fwd IAT Min', 'Bwd IAT Total', 'Bwd IAT Mean',\n",
       "       'Bwd IAT Std', 'Bwd IAT Max', 'Bwd IAT Min', 'Fwd PSH Flags',\n",
       "       'Bwd PSH Flags', 'Fwd URG Flags', 'Bwd URG Flags', 'Fwd RST Flags',\n",
       "       'Bwd RST Flags', 'Fwd Header Length', 'Bwd Header Length',\n",
       "       'Fwd Packets/s', 'Bwd Packets/s', 'Packet Length Min',\n",
       "       'Packet Length Max', 'Packet Length Mean', 'Packet Length Std',\n",
       "       'Packet Length Variance', 'FIN Flag Count', 'SYN Flag Count',\n",
       "       'RST Flag Count', 'PSH Flag Count', 'ACK Flag Count', 'URG Flag Count',\n",
       "       'CWR Flag Count', 'ECE Flag Count', 'Down/Up Ratio',\n",
       "       'Average Packet Size', 'Fwd Segment Size Avg', 'Bwd Segment Size Avg',\n",
       "       'Fwd Bytes/Bulk Avg', 'Fwd Packet/Bulk Avg', 'Fwd Bulk Rate Avg',\n",
       "       'Bwd Bytes/Bulk Avg', 'Bwd Packet/Bulk Avg', 'Bwd Bulk Rate Avg',\n",
       "       'Subflow Fwd Packets', 'Subflow Fwd Bytes', 'Subflow Bwd Packets',\n",
       "       'Subflow Bwd Bytes', 'FWD Init Win Bytes', 'Bwd Init Win Bytes',\n",
       "       'Fwd Act Data Pkts', 'Fwd Seg Size Min', 'Active Mean', 'Active Std',\n",
       "       'Active Max', 'Active Min', 'Idle Mean', 'Idle Std', 'Idle Max',\n",
       "       'Idle Min', 'ICMP Code', 'ICMP Type', 'Total TCP Flow Time', 'Label'],\n",
       "      dtype='object')"
      ]
     },
     "execution_count": 3,
     "metadata": {},
     "output_type": "execute_result"
    }
   ],
   "source": [
    "data.columns"
   ]
  },
  {
   "cell_type": "code",
   "execution_count": 4,
   "id": "18bcf674-10f7-4a22-8243-edc0095cca23",
   "metadata": {},
   "outputs": [
    {
     "data": {
      "text/plain": [
       "\"us_data = data[data['Label'].isin(['BENIGN', 'DDoS', 'Portscan', 'Web Attack - Brute Force'])]\""
      ]
     },
     "execution_count": 4,
     "metadata": {},
     "output_type": "execute_result"
    }
   ],
   "source": [
    "'''us_data = data[data['Label'].isin(['BENIGN', 'DDoS', 'Portscan', 'Web Attack - Brute Force'])]'''"
   ]
  },
  {
   "cell_type": "code",
   "execution_count": 5,
   "id": "72ea5468-dbb4-49b1-ad00-d2b270bfc464",
   "metadata": {},
   "outputs": [],
   "source": [
    "us_data = data.drop(columns=['Flow ID', 'Src IP', 'Timestamp', 'Dst IP', 'Label'])"
   ]
  },
  {
   "cell_type": "code",
   "execution_count": 6,
   "id": "e2109535-1a65-4d0e-8f33-9bec78d7f290",
   "metadata": {},
   "outputs": [
    {
     "name": "stdout",
     "output_type": "stream",
     "text": [
      "No. of rows and cols: (746, 84)\n",
      "\n",
      "Columns: Index(['Src Port', 'Dst Port', 'Protocol', 'Flow Duration', 'Total Fwd Packet',\n",
      "       'Total Bwd packets', 'Total Length of Fwd Packet',\n",
      "       'Total Length of Bwd Packet', 'Fwd Packet Length Max',\n",
      "       'Fwd Packet Length Min', 'Fwd Packet Length Mean',\n",
      "       'Fwd Packet Length Std', 'Bwd Packet Length Max',\n",
      "       'Bwd Packet Length Min', 'Bwd Packet Length Mean',\n",
      "       'Bwd Packet Length Std', 'Flow Bytes/s', 'Flow Packets/s',\n",
      "       'Flow IAT Mean', 'Flow IAT Std', 'Flow IAT Max', 'Flow IAT Min',\n",
      "       'Fwd IAT Total', 'Fwd IAT Mean', 'Fwd IAT Std', 'Fwd IAT Max',\n",
      "       'Fwd IAT Min', 'Bwd IAT Total', 'Bwd IAT Mean', 'Bwd IAT Std',\n",
      "       'Bwd IAT Max', 'Bwd IAT Min', 'Fwd PSH Flags', 'Bwd PSH Flags',\n",
      "       'Fwd URG Flags', 'Bwd URG Flags', 'Fwd RST Flags', 'Bwd RST Flags',\n",
      "       'Fwd Header Length', 'Bwd Header Length', 'Fwd Packets/s',\n",
      "       'Bwd Packets/s', 'Packet Length Min', 'Packet Length Max',\n",
      "       'Packet Length Mean', 'Packet Length Std', 'Packet Length Variance',\n",
      "       'FIN Flag Count', 'SYN Flag Count', 'RST Flag Count', 'PSH Flag Count',\n",
      "       'ACK Flag Count', 'URG Flag Count', 'CWR Flag Count', 'ECE Flag Count',\n",
      "       'Down/Up Ratio', 'Average Packet Size', 'Fwd Segment Size Avg',\n",
      "       'Bwd Segment Size Avg', 'Fwd Bytes/Bulk Avg', 'Fwd Packet/Bulk Avg',\n",
      "       'Fwd Bulk Rate Avg', 'Bwd Bytes/Bulk Avg', 'Bwd Packet/Bulk Avg',\n",
      "       'Bwd Bulk Rate Avg', 'Subflow Fwd Packets', 'Subflow Fwd Bytes',\n",
      "       'Subflow Bwd Packets', 'Subflow Bwd Bytes', 'FWD Init Win Bytes',\n",
      "       'Bwd Init Win Bytes', 'Fwd Act Data Pkts', 'Fwd Seg Size Min',\n",
      "       'Active Mean', 'Active Std', 'Active Max', 'Active Min', 'Idle Mean',\n",
      "       'Idle Std', 'Idle Max', 'Idle Min', 'ICMP Code', 'ICMP Type',\n",
      "       'Total TCP Flow Time'],\n",
      "      dtype='object')\n"
     ]
    }
   ],
   "source": [
    "print(\"No. of rows and cols:\", us_data.shape)\n",
    "print(\"\\nColumns:\", us_data.columns)"
   ]
  },
  {
   "cell_type": "code",
   "execution_count": 7,
   "id": "e7e3b69f-8bfe-459b-afe6-6e5f9ab109db",
   "metadata": {},
   "outputs": [
    {
     "data": {
      "text/plain": [
       "Index(['Flow Bytes/s', 'Flow IAT Mean', 'Flow IAT Std', 'Flow IAT Max',\n",
       "       'Flow IAT Min'],\n",
       "      dtype='object')"
      ]
     },
     "execution_count": 7,
     "metadata": {},
     "output_type": "execute_result"
    }
   ],
   "source": [
    "us_data.columns[us_data.isnull().any()]"
   ]
  },
  {
   "cell_type": "code",
   "execution_count": 8,
   "id": "174c9291-39a3-4f37-ba2b-a49abf3b2f39",
   "metadata": {},
   "outputs": [
    {
     "data": {
      "text/plain": [
       "Flow Bytes/s     682\n",
       "Flow IAT Mean    682\n",
       "Flow IAT Std     682\n",
       "Flow IAT Max     682\n",
       "Flow IAT Min     682\n",
       "dtype: int64"
      ]
     },
     "execution_count": 8,
     "metadata": {},
     "output_type": "execute_result"
    }
   ],
   "source": [
    "us_data.isnull().sum()[us_data.isnull().any()]"
   ]
  },
  {
   "cell_type": "code",
   "execution_count": 9,
   "id": "ce51abda-272f-47a3-a718-979bd96f72b4",
   "metadata": {},
   "outputs": [
    {
     "name": "stderr",
     "output_type": "stream",
     "text": [
      "C:\\Users\\SAIRAZEX\\AppData\\Local\\Temp\\ipykernel_18500\\385993871.py:1: FutureWarning: DataFrame.fillna with 'method' is deprecated and will raise in a future version. Use obj.ffill() or obj.bfill() instead.\n",
      "  us_data.fillna(method='bfill', inplace=True)\n"
     ]
    }
   ],
   "source": [
    "us_data.fillna(method='bfill', inplace=True)"
   ]
  },
  {
   "cell_type": "code",
   "execution_count": 10,
   "id": "784c1e1c-cbae-4e94-a93f-722ce9bffbcc",
   "metadata": {},
   "outputs": [
    {
     "data": {
      "text/plain": [
       "Index([], dtype='object')"
      ]
     },
     "execution_count": 10,
     "metadata": {},
     "output_type": "execute_result"
    }
   ],
   "source": [
    "us_data.columns[us_data.isnull().any()]"
   ]
  },
  {
   "cell_type": "code",
   "execution_count": 11,
   "id": "c1b31952-f594-46c3-82f9-3943154eefde",
   "metadata": {},
   "outputs": [
    {
     "name": "stdout",
     "output_type": "stream",
     "text": [
      "No. of rows and cols after removing duplicates:  (746, 84)\n"
     ]
    }
   ],
   "source": [
    "us_data = us_data.drop_duplicates()\n",
    "print(\"No. of rows and cols after removing duplicates: \", us_data.shape)"
   ]
  },
  {
   "cell_type": "code",
   "execution_count": 15,
   "id": "201d1df5-b5c0-49b5-89aa-1a25948a3a9a",
   "metadata": {},
   "outputs": [
    {
     "ename": "ValueError",
     "evalue": "numpy.dtype size changed, may indicate binary incompatibility. Expected 96 from C header, got 88 from PyObject",
     "output_type": "error",
     "traceback": [
      "\u001b[31m---------------------------------------------------------------------------\u001b[39m",
      "\u001b[31mValueError\u001b[39m                                Traceback (most recent call last)",
      "\u001b[36mCell\u001b[39m\u001b[36m \u001b[39m\u001b[32mIn[15]\u001b[39m\u001b[32m, line 2\u001b[39m\n\u001b[32m      1\u001b[39m \u001b[38;5;28;01mimport\u001b[39;00m\u001b[38;5;250m \u001b[39m\u001b[34;01mnumpy\u001b[39;00m\n\u001b[32m----> \u001b[39m\u001b[32m2\u001b[39m \u001b[38;5;28;01mimport\u001b[39;00m\u001b[38;5;250m \u001b[39m\u001b[34;01mcatboost\u001b[39;00m\n\u001b[32m      4\u001b[39m \u001b[38;5;28mprint\u001b[39m(\u001b[33m\"\u001b[39m\u001b[33mNumPy version:\u001b[39m\u001b[33m\"\u001b[39m, numpy.__version__)\n\u001b[32m      5\u001b[39m \u001b[38;5;28mprint\u001b[39m(\u001b[33m\"\u001b[39m\u001b[33mCatBoost version:\u001b[39m\u001b[33m\"\u001b[39m, catboost.__version__)\n",
      "\u001b[36mFile \u001b[39m\u001b[32m~\\AppData\\Local\\Programs\\Python\\Python312\\Lib\\site-packages\\catboost\\__init__.py:1\u001b[39m\n\u001b[32m----> \u001b[39m\u001b[32m1\u001b[39m \u001b[38;5;28;01mfrom\u001b[39;00m\u001b[38;5;250m \u001b[39m\u001b[34;01m.\u001b[39;00m\u001b[34;01mcore\u001b[39;00m\u001b[38;5;250m \u001b[39m\u001b[38;5;28;01mimport\u001b[39;00m (\n\u001b[32m      2\u001b[39m     FeaturesData, EFstrType, EShapCalcType, EFeaturesSelectionAlgorithm, EFeaturesSelectionGrouping,\n\u001b[32m      3\u001b[39m     Pool, CatBoost, CatBoostClassifier, CatBoostRegressor, CatBoostRanker, CatBoostError, cv, sample_gaussian_process, train,\n\u001b[32m      4\u001b[39m     sum_models, _have_equal_features, to_regressor, to_classifier, to_ranker, MultiRegressionCustomMetric,\n\u001b[32m      5\u001b[39m     MultiRegressionCustomObjective, MultiTargetCustomMetric, MultiTargetCustomObjective\n\u001b[32m      6\u001b[39m )  \u001b[38;5;66;03m# noqa\u001b[39;00m\n\u001b[32m      7\u001b[39m \u001b[38;5;28;01mfrom\u001b[39;00m\u001b[38;5;250m \u001b[39m\u001b[34;01m.\u001b[39;00m\u001b[34;01mversion\u001b[39;00m\u001b[38;5;250m \u001b[39m\u001b[38;5;28;01mimport\u001b[39;00m VERSION \u001b[38;5;28;01mas\u001b[39;00m __version__  \u001b[38;5;66;03m# noqa\u001b[39;00m\n\u001b[32m      8\u001b[39m __all__ = [\n\u001b[32m      9\u001b[39m     \u001b[33m'\u001b[39m\u001b[33mFeaturesData\u001b[39m\u001b[33m'\u001b[39m, \u001b[33m'\u001b[39m\u001b[33mEFstrType\u001b[39m\u001b[33m'\u001b[39m, \u001b[33m'\u001b[39m\u001b[33mEShapCalcType\u001b[39m\u001b[33m'\u001b[39m, \u001b[33m'\u001b[39m\u001b[33mEFeaturesSelectionAlgorithm\u001b[39m\u001b[33m'\u001b[39m, \u001b[33m'\u001b[39m\u001b[33mEFeaturesSelectionGrouping\u001b[39m\u001b[33m'\u001b[39m,\n\u001b[32m     10\u001b[39m     \u001b[33m'\u001b[39m\u001b[33mPool\u001b[39m\u001b[33m'\u001b[39m, \u001b[33m'\u001b[39m\u001b[33mCatBoost\u001b[39m\u001b[33m'\u001b[39m, \u001b[33m'\u001b[39m\u001b[33mCatBoostClassifier\u001b[39m\u001b[33m'\u001b[39m, \u001b[33m'\u001b[39m\u001b[33mCatBoostRegressor\u001b[39m\u001b[33m'\u001b[39m, \u001b[33m'\u001b[39m\u001b[33mCatBoostRanker\u001b[39m\u001b[33m'\u001b[39m, \u001b[33m'\u001b[39m\u001b[33mCatboostError\u001b[39m\u001b[33m'\u001b[39m,\n\u001b[32m   (...)\u001b[39m\u001b[32m     13\u001b[39m     \u001b[33m'\u001b[39m\u001b[33mMultiTargetCustomMetric\u001b[39m\u001b[33m'\u001b[39m, \u001b[33m'\u001b[39m\u001b[33mMultiTargetCustomObjective\u001b[39m\u001b[33m'\u001b[39m\n\u001b[32m     14\u001b[39m ]\n",
      "\u001b[36mFile \u001b[39m\u001b[32m~\\AppData\\Local\\Programs\\Python\\Python312\\Lib\\site-packages\\catboost\\core.py:45\u001b[39m\n\u001b[32m     40\u001b[39m         \u001b[38;5;28;01mpass\u001b[39;00m\n\u001b[32m     42\u001b[39m \u001b[38;5;28;01mimport\u001b[39;00m\u001b[38;5;250m \u001b[39m\u001b[34;01mscipy\u001b[39;00m\u001b[34;01m.\u001b[39;00m\u001b[34;01msparse\u001b[39;00m\n\u001b[32m---> \u001b[39m\u001b[32m45\u001b[39m \u001b[38;5;28;01mfrom\u001b[39;00m\u001b[38;5;250m \u001b[39m\u001b[34;01m.\u001b[39;00m\u001b[34;01mplot_helpers\u001b[39;00m\u001b[38;5;250m \u001b[39m\u001b[38;5;28;01mimport\u001b[39;00m save_plot_file, try_plot_offline, OfflineMetricVisualizer\n\u001b[32m     46\u001b[39m \u001b[38;5;28;01mfrom\u001b[39;00m\u001b[38;5;250m \u001b[39m\u001b[34;01m.\u001b[39;00m\u001b[38;5;250m \u001b[39m\u001b[38;5;28;01mimport\u001b[39;00m _catboost\n\u001b[32m     47\u001b[39m \u001b[38;5;28;01mfrom\u001b[39;00m\u001b[38;5;250m \u001b[39m\u001b[34;01m.\u001b[39;00m\u001b[34;01mmetrics\u001b[39;00m\u001b[38;5;250m \u001b[39m\u001b[38;5;28;01mimport\u001b[39;00m BuiltinMetric\n",
      "\u001b[36mFile \u001b[39m\u001b[32m~\\AppData\\Local\\Programs\\Python\\Python312\\Lib\\site-packages\\catboost\\plot_helpers.py:5\u001b[39m\n\u001b[32m      2\u001b[39m \u001b[38;5;28;01mimport\u001b[39;00m\u001b[38;5;250m \u001b[39m\u001b[34;01mos\u001b[39;00m\n\u001b[32m      3\u001b[39m \u001b[38;5;28;01mimport\u001b[39;00m\u001b[38;5;250m \u001b[39m\u001b[34;01mwarnings\u001b[39;00m\n\u001b[32m----> \u001b[39m\u001b[32m5\u001b[39m \u001b[38;5;28;01mfrom\u001b[39;00m\u001b[38;5;250m \u001b[39m\u001b[34;01m.\u001b[39;00m\u001b[38;5;250m \u001b[39m\u001b[38;5;28;01mimport\u001b[39;00m _catboost\n\u001b[32m      6\u001b[39m fspath = _catboost.fspath\n\u001b[32m      9\u001b[39m \u001b[38;5;28;01mdef\u001b[39;00m\u001b[38;5;250m \u001b[39m\u001b[34mtry_plot_offline\u001b[39m(figs):\n",
      "\u001b[36mFile \u001b[39m\u001b[32m_catboost.pyx:1\u001b[39m, in \u001b[36minit _catboost\u001b[39m\u001b[34m()\u001b[39m\n",
      "\u001b[31mValueError\u001b[39m: numpy.dtype size changed, may indicate binary incompatibility. Expected 96 from C header, got 88 from PyObject"
     ]
    }
   ],
   "source": [
    "import numpy\n",
    "import catboost\n",
    "\n",
    "print(\"NumPy version:\", numpy.__version__)\n",
    "print(\"CatBoost version:\", catboost.__version__)"
   ]
  },
  {
   "cell_type": "code",
   "execution_count": 14,
   "id": "928ea88d-ec26-4c6f-96dc-724b3aec3fdb",
   "metadata": {},
   "outputs": [
    {
     "name": "stdout",
     "output_type": "stream",
     "text": [
      "Requirement already satisfied: numpy in c:\\users\\sairazex\\appdata\\local\\programs\\python\\python312\\lib\\site-packages (2.2.4)\n",
      "Collecting catboost\n",
      "  Downloading catboost-1.2.7-cp312-cp312-win_amd64.whl.metadata (1.2 kB)\n",
      "Collecting graphviz (from catboost)\n",
      "  Downloading graphviz-0.20.3-py3-none-any.whl.metadata (12 kB)\n",
      "Collecting matplotlib (from catboost)\n",
      "  Downloading matplotlib-3.10.1-cp312-cp312-win_amd64.whl.metadata (11 kB)\n",
      "Collecting numpy<2.0,>=1.16.0 (from catboost)\n",
      "  Downloading numpy-1.26.4-cp312-cp312-win_amd64.whl.metadata (61 kB)\n",
      "Collecting pandas>=0.24 (from catboost)\n",
      "  Downloading pandas-2.2.3-cp312-cp312-win_amd64.whl.metadata (19 kB)\n",
      "Collecting scipy (from catboost)\n",
      "  Downloading scipy-1.15.2-cp312-cp312-win_amd64.whl.metadata (60 kB)\n",
      "Collecting plotly (from catboost)\n",
      "  Downloading plotly-6.0.1-py3-none-any.whl.metadata (6.7 kB)\n",
      "Collecting six (from catboost)\n",
      "  Downloading six-1.17.0-py2.py3-none-any.whl.metadata (1.7 kB)\n",
      "Collecting python-dateutil>=2.8.2 (from pandas>=0.24->catboost)\n",
      "  Downloading python_dateutil-2.9.0.post0-py2.py3-none-any.whl.metadata (8.4 kB)\n",
      "Collecting pytz>=2020.1 (from pandas>=0.24->catboost)\n",
      "  Downloading pytz-2025.2-py2.py3-none-any.whl.metadata (22 kB)\n",
      "Collecting tzdata>=2022.7 (from pandas>=0.24->catboost)\n",
      "  Downloading tzdata-2025.2-py2.py3-none-any.whl.metadata (1.4 kB)\n",
      "Collecting contourpy>=1.0.1 (from matplotlib->catboost)\n",
      "  Downloading contourpy-1.3.1-cp312-cp312-win_amd64.whl.metadata (5.4 kB)\n",
      "Collecting cycler>=0.10 (from matplotlib->catboost)\n",
      "  Downloading cycler-0.12.1-py3-none-any.whl.metadata (3.8 kB)\n",
      "Collecting fonttools>=4.22.0 (from matplotlib->catboost)\n",
      "  Downloading fonttools-4.57.0-cp312-cp312-win_amd64.whl.metadata (104 kB)\n",
      "Collecting kiwisolver>=1.3.1 (from matplotlib->catboost)\n",
      "  Downloading kiwisolver-1.4.8-cp312-cp312-win_amd64.whl.metadata (6.3 kB)\n",
      "Collecting packaging>=20.0 (from matplotlib->catboost)\n",
      "  Downloading packaging-24.2-py3-none-any.whl.metadata (3.2 kB)\n",
      "Collecting pillow>=8 (from matplotlib->catboost)\n",
      "  Downloading pillow-11.1.0-cp312-cp312-win_amd64.whl.metadata (9.3 kB)\n",
      "Collecting pyparsing>=2.3.1 (from matplotlib->catboost)\n",
      "  Downloading pyparsing-3.2.3-py3-none-any.whl.metadata (5.0 kB)\n",
      "Collecting narwhals>=1.15.1 (from plotly->catboost)\n",
      "  Downloading narwhals-1.33.0-py3-none-any.whl.metadata (9.2 kB)\n",
      "Downloading catboost-1.2.7-cp312-cp312-win_amd64.whl (101.7 MB)\n",
      "   ---------------------------------------- 0.0/101.7 MB ? eta -:--:--\n",
      "    --------------------------------------- 1.3/101.7 MB 6.7 MB/s eta 0:00:15\n",
      "   - -------------------------------------- 2.6/101.7 MB 6.6 MB/s eta 0:00:16\n",
      "   - -------------------------------------- 3.7/101.7 MB 6.4 MB/s eta 0:00:16\n",
      "   - -------------------------------------- 5.0/101.7 MB 6.4 MB/s eta 0:00:16\n",
      "   -- ------------------------------------- 6.3/101.7 MB 6.3 MB/s eta 0:00:16\n",
      "   -- ------------------------------------- 7.6/101.7 MB 6.3 MB/s eta 0:00:15\n",
      "   --- ------------------------------------ 8.9/101.7 MB 6.4 MB/s eta 0:00:15\n",
      "   ---- ----------------------------------- 10.2/101.7 MB 6.4 MB/s eta 0:00:15\n",
      "   ---- ----------------------------------- 11.5/101.7 MB 6.3 MB/s eta 0:00:15\n",
      "   ----- ---------------------------------- 12.8/101.7 MB 6.3 MB/s eta 0:00:15\n",
      "   ----- ---------------------------------- 14.2/101.7 MB 6.4 MB/s eta 0:00:14\n",
      "   ------ --------------------------------- 15.5/101.7 MB 6.4 MB/s eta 0:00:14\n",
      "   ------ --------------------------------- 16.8/101.7 MB 6.4 MB/s eta 0:00:14\n",
      "   ------- -------------------------------- 18.1/101.7 MB 6.3 MB/s eta 0:00:14\n",
      "   ------- -------------------------------- 18.4/101.7 MB 6.1 MB/s eta 0:00:14\n",
      "   ------- -------------------------------- 18.9/101.7 MB 5.8 MB/s eta 0:00:15\n",
      "   ------- -------------------------------- 20.2/101.7 MB 5.8 MB/s eta 0:00:14\n",
      "   -------- ------------------------------- 21.5/101.7 MB 5.9 MB/s eta 0:00:14\n",
      "   -------- ------------------------------- 22.8/101.7 MB 5.9 MB/s eta 0:00:14\n",
      "   --------- ------------------------------ 24.1/101.7 MB 5.9 MB/s eta 0:00:14\n",
      "   --------- ------------------------------ 25.4/101.7 MB 5.9 MB/s eta 0:00:13\n",
      "   ---------- ----------------------------- 26.7/101.7 MB 5.9 MB/s eta 0:00:13\n",
      "   ---------- ----------------------------- 27.8/101.7 MB 6.0 MB/s eta 0:00:13\n",
      "   ----------- ---------------------------- 29.4/101.7 MB 6.0 MB/s eta 0:00:13\n",
      "   ------------ --------------------------- 30.7/101.7 MB 6.0 MB/s eta 0:00:12\n",
      "   ------------ --------------------------- 32.0/101.7 MB 6.0 MB/s eta 0:00:12\n",
      "   ------------ --------------------------- 32.8/101.7 MB 6.0 MB/s eta 0:00:12\n",
      "   ------------- -------------------------- 34.1/101.7 MB 6.0 MB/s eta 0:00:12\n",
      "   ------------- -------------------------- 35.4/101.7 MB 6.0 MB/s eta 0:00:12\n",
      "   -------------- ------------------------- 36.7/101.7 MB 6.0 MB/s eta 0:00:11\n",
      "   -------------- ------------------------- 38.0/101.7 MB 6.0 MB/s eta 0:00:11\n",
      "   --------------- ------------------------ 39.3/101.7 MB 6.0 MB/s eta 0:00:11\n",
      "   --------------- ------------------------ 40.1/101.7 MB 6.0 MB/s eta 0:00:11\n",
      "   --------------- ------------------------ 40.6/101.7 MB 5.9 MB/s eta 0:00:11\n",
      "   ---------------- ----------------------- 41.4/101.7 MB 5.8 MB/s eta 0:00:11\n",
      "   ---------------- ----------------------- 42.7/101.7 MB 5.8 MB/s eta 0:00:11\n",
      "   ----------------- ---------------------- 44.0/101.7 MB 5.8 MB/s eta 0:00:10\n",
      "   ----------------- ---------------------- 45.4/101.7 MB 5.8 MB/s eta 0:00:10\n",
      "   ------------------ --------------------- 46.7/101.7 MB 5.8 MB/s eta 0:00:10\n",
      "   ------------------ --------------------- 48.0/101.7 MB 5.8 MB/s eta 0:00:10\n",
      "   ------------------- -------------------- 49.3/101.7 MB 5.9 MB/s eta 0:00:09\n",
      "   ------------------- -------------------- 50.6/101.7 MB 5.9 MB/s eta 0:00:09\n",
      "   -------------------- ------------------- 51.9/101.7 MB 5.9 MB/s eta 0:00:09\n",
      "   -------------------- ------------------- 53.2/101.7 MB 5.9 MB/s eta 0:00:09\n",
      "   --------------------- ------------------ 54.5/101.7 MB 5.9 MB/s eta 0:00:09\n",
      "   --------------------- ------------------ 55.8/101.7 MB 5.9 MB/s eta 0:00:08\n",
      "   ---------------------- ----------------- 56.9/101.7 MB 5.9 MB/s eta 0:00:08\n",
      "   ---------------------- ----------------- 58.2/101.7 MB 5.9 MB/s eta 0:00:08\n",
      "   ----------------------- ---------------- 59.5/101.7 MB 5.9 MB/s eta 0:00:08\n",
      "   ----------------------- ---------------- 60.8/101.7 MB 5.9 MB/s eta 0:00:07\n",
      "   ------------------------ --------------- 62.1/101.7 MB 5.9 MB/s eta 0:00:07\n",
      "   ------------------------ --------------- 63.4/101.7 MB 5.9 MB/s eta 0:00:07\n",
      "   ------------------------- -------------- 64.7/101.7 MB 6.0 MB/s eta 0:00:07\n",
      "   ------------------------- -------------- 66.1/101.7 MB 6.0 MB/s eta 0:00:06\n",
      "   -------------------------- ------------- 66.8/101.7 MB 5.9 MB/s eta 0:00:06\n",
      "   -------------------------- ------------- 67.4/101.7 MB 5.9 MB/s eta 0:00:06\n",
      "   -------------------------- ------------- 68.2/101.7 MB 5.8 MB/s eta 0:00:06\n",
      "   --------------------------- ------------ 69.5/101.7 MB 5.8 MB/s eta 0:00:06\n",
      "   --------------------------- ------------ 70.8/101.7 MB 5.8 MB/s eta 0:00:06\n",
      "   ---------------------------- ----------- 72.1/101.7 MB 5.8 MB/s eta 0:00:06\n",
      "   ---------------------------- ----------- 73.4/101.7 MB 5.9 MB/s eta 0:00:05\n",
      "   ----------------------------- ---------- 74.7/101.7 MB 5.9 MB/s eta 0:00:05\n",
      "   ----------------------------- ---------- 76.0/101.7 MB 5.9 MB/s eta 0:00:05\n",
      "   ------------------------------ --------- 77.3/101.7 MB 5.9 MB/s eta 0:00:05\n",
      "   ------------------------------ --------- 78.6/101.7 MB 5.9 MB/s eta 0:00:04\n",
      "   ------------------------------- -------- 80.0/101.7 MB 5.9 MB/s eta 0:00:04\n",
      "   ------------------------------- -------- 81.3/101.7 MB 5.9 MB/s eta 0:00:04\n",
      "   -------------------------------- ------- 82.6/101.7 MB 5.9 MB/s eta 0:00:04\n",
      "   -------------------------------- ------- 83.9/101.7 MB 5.9 MB/s eta 0:00:04\n",
      "   --------------------------------- ------ 85.2/101.7 MB 5.9 MB/s eta 0:00:03\n",
      "   --------------------------------- ------ 86.2/101.7 MB 5.9 MB/s eta 0:00:03\n",
      "   ---------------------------------- ----- 87.6/101.7 MB 5.9 MB/s eta 0:00:03\n",
      "   ---------------------------------- ----- 88.6/101.7 MB 5.9 MB/s eta 0:00:03\n",
      "   ----------------------------------- ---- 89.1/101.7 MB 5.9 MB/s eta 0:00:03\n",
      "   ----------------------------------- ---- 89.7/101.7 MB 5.8 MB/s eta 0:00:03\n",
      "   ----------------------------------- ---- 91.0/101.7 MB 5.8 MB/s eta 0:00:02\n",
      "   ------------------------------------ --- 92.3/101.7 MB 5.8 MB/s eta 0:00:02\n",
      "   ------------------------------------ --- 93.6/101.7 MB 5.8 MB/s eta 0:00:02\n",
      "   ------------------------------------- -- 94.9/101.7 MB 5.8 MB/s eta 0:00:02\n",
      "   ------------------------------------- -- 96.2/101.7 MB 5.9 MB/s eta 0:00:01\n",
      "   -------------------------------------- - 97.5/101.7 MB 5.9 MB/s eta 0:00:01\n",
      "   -------------------------------------- - 98.8/101.7 MB 5.9 MB/s eta 0:00:01\n",
      "   ---------------------------------------  100.1/101.7 MB 5.9 MB/s eta 0:00:01\n",
      "   ---------------------------------------  101.4/101.7 MB 5.9 MB/s eta 0:00:01\n",
      "   ---------------------------------------- 101.7/101.7 MB 5.9 MB/s eta 0:00:00\n",
      "Downloading numpy-1.26.4-cp312-cp312-win_amd64.whl (15.5 MB)\n",
      "   ---------------------------------------- 0.0/15.5 MB ? eta -:--:--\n",
      "   -- ------------------------------------- 1.0/15.5 MB 6.3 MB/s eta 0:00:03\n",
      "   ------ --------------------------------- 2.4/15.5 MB 6.1 MB/s eta 0:00:03\n",
      "   --------- ------------------------------ 3.7/15.5 MB 6.1 MB/s eta 0:00:02\n",
      "   ------------ --------------------------- 5.0/15.5 MB 6.2 MB/s eta 0:00:02\n",
      "   ---------------- ----------------------- 6.3/15.5 MB 6.2 MB/s eta 0:00:02\n",
      "   ------------------- -------------------- 7.6/15.5 MB 6.3 MB/s eta 0:00:02\n",
      "   ---------------------- ----------------- 8.7/15.5 MB 6.2 MB/s eta 0:00:02\n",
      "   ----------------------- ---------------- 9.2/15.5 MB 5.8 MB/s eta 0:00:02\n",
      "   ------------------------- -------------- 10.0/15.5 MB 5.4 MB/s eta 0:00:02\n",
      "   ----------------------------- ---------- 11.3/15.5 MB 5.5 MB/s eta 0:00:01\n",
      "   -------------------------------- ------- 12.6/15.5 MB 5.6 MB/s eta 0:00:01\n",
      "   ----------------------------------- ---- 13.9/15.5 MB 5.6 MB/s eta 0:00:01\n",
      "   -------------------------------------- - 14.9/15.5 MB 5.6 MB/s eta 0:00:01\n",
      "   ---------------------------------------- 15.5/15.5 MB 5.6 MB/s eta 0:00:00\n",
      "Downloading pandas-2.2.3-cp312-cp312-win_amd64.whl (11.5 MB)\n",
      "   ---------------------------------------- 0.0/11.5 MB ? eta -:--:--\n",
      "   ---- ----------------------------------- 1.3/11.5 MB 6.1 MB/s eta 0:00:02\n",
      "   --------- ------------------------------ 2.6/11.5 MB 6.3 MB/s eta 0:00:02\n",
      "   ------------- -------------------------- 3.9/11.5 MB 6.3 MB/s eta 0:00:02\n",
      "   ----------------- ---------------------- 5.0/11.5 MB 6.3 MB/s eta 0:00:02\n",
      "   --------------------- ------------------ 6.3/11.5 MB 6.3 MB/s eta 0:00:01\n",
      "   -------------------------- ------------- 7.6/11.5 MB 6.3 MB/s eta 0:00:01\n",
      "   ------------------------------ --------- 8.9/11.5 MB 6.4 MB/s eta 0:00:01\n",
      "   ----------------------------------- ---- 10.2/11.5 MB 6.4 MB/s eta 0:00:01\n",
      "   ---------------------------------------- 11.5/11.5 MB 6.4 MB/s eta 0:00:00\n",
      "Downloading graphviz-0.20.3-py3-none-any.whl (47 kB)\n",
      "Downloading matplotlib-3.10.1-cp312-cp312-win_amd64.whl (8.1 MB)\n",
      "   ---------------------------------------- 0.0/8.1 MB ? eta -:--:--\n",
      "   ------ --------------------------------- 1.3/8.1 MB 6.7 MB/s eta 0:00:02\n",
      "   ------------- -------------------------- 2.6/8.1 MB 6.6 MB/s eta 0:00:01\n",
      "   ------------------- -------------------- 3.9/8.1 MB 6.3 MB/s eta 0:00:01\n",
      "   -------------------------- ------------- 5.2/8.1 MB 6.4 MB/s eta 0:00:01\n",
      "   ----------------------------- ---------- 6.0/8.1 MB 6.1 MB/s eta 0:00:01\n",
      "   -------------------------------- ------- 6.6/8.1 MB 5.4 MB/s eta 0:00:01\n",
      "   ------------------------------------- -- 7.6/8.1 MB 5.3 MB/s eta 0:00:01\n",
      "   ---------------------------------------- 8.1/8.1 MB 5.4 MB/s eta 0:00:00\n",
      "Downloading plotly-6.0.1-py3-none-any.whl (14.8 MB)\n",
      "   ---------------------------------------- 0.0/14.8 MB ? eta -:--:--\n",
      "   --- ------------------------------------ 1.3/14.8 MB 6.7 MB/s eta 0:00:03\n",
      "   ------- -------------------------------- 2.6/14.8 MB 6.6 MB/s eta 0:00:02\n",
      "   ---------- ----------------------------- 3.9/14.8 MB 6.5 MB/s eta 0:00:02\n",
      "   ------------- -------------------------- 5.0/14.8 MB 6.4 MB/s eta 0:00:02\n",
      "   ---------------- ----------------------- 6.3/14.8 MB 6.4 MB/s eta 0:00:02\n",
      "   -------------------- ------------------- 7.6/14.8 MB 6.4 MB/s eta 0:00:02\n",
      "   ------------------------ --------------- 8.9/14.8 MB 6.4 MB/s eta 0:00:01\n",
      "   --------------------------- ------------ 10.2/14.8 MB 6.4 MB/s eta 0:00:01\n",
      "   ------------------------------- -------- 11.5/14.8 MB 6.4 MB/s eta 0:00:01\n",
      "   ---------------------------------- ----- 12.8/14.8 MB 6.4 MB/s eta 0:00:01\n",
      "   -------------------------------------- - 14.2/14.8 MB 6.4 MB/s eta 0:00:01\n",
      "   ---------------------------------------- 14.8/14.8 MB 6.4 MB/s eta 0:00:00\n",
      "Downloading scipy-1.15.2-cp312-cp312-win_amd64.whl (40.9 MB)\n",
      "   ---------------------------------------- 0.0/40.9 MB ? eta -:--:--\n",
      "   - -------------------------------------- 1.3/40.9 MB 6.7 MB/s eta 0:00:06\n",
      "   -- ------------------------------------- 2.6/40.9 MB 6.6 MB/s eta 0:00:06\n",
      "   --- ------------------------------------ 3.9/40.9 MB 6.5 MB/s eta 0:00:06\n",
      "   ---- ----------------------------------- 5.0/40.9 MB 6.4 MB/s eta 0:00:06\n",
      "   ----- ---------------------------------- 6.0/40.9 MB 6.4 MB/s eta 0:00:06\n",
      "   ------ --------------------------------- 6.8/40.9 MB 5.7 MB/s eta 0:00:07\n",
      "   ------- -------------------------------- 7.3/40.9 MB 5.2 MB/s eta 0:00:07\n",
      "   -------- ------------------------------- 8.4/40.9 MB 5.2 MB/s eta 0:00:07\n",
      "   --------- ------------------------------ 9.7/40.9 MB 5.3 MB/s eta 0:00:06\n",
      "   ---------- ----------------------------- 11.0/40.9 MB 5.4 MB/s eta 0:00:06\n",
      "   ------------ --------------------------- 12.3/40.9 MB 5.5 MB/s eta 0:00:06\n",
      "   ------------- -------------------------- 13.6/40.9 MB 5.6 MB/s eta 0:00:05\n",
      "   -------------- ------------------------- 14.9/40.9 MB 5.7 MB/s eta 0:00:05\n",
      "   --------------- ------------------------ 16.3/40.9 MB 5.7 MB/s eta 0:00:05\n",
      "   ----------------- ---------------------- 17.6/40.9 MB 5.7 MB/s eta 0:00:05\n",
      "   ------------------ --------------------- 18.9/40.9 MB 5.8 MB/s eta 0:00:04\n",
      "   ------------------- -------------------- 20.2/40.9 MB 5.8 MB/s eta 0:00:04\n",
      "   --------------------- ------------------ 21.5/40.9 MB 5.9 MB/s eta 0:00:04\n",
      "   ---------------------- ----------------- 22.8/40.9 MB 5.9 MB/s eta 0:00:04\n",
      "   ----------------------- ---------------- 24.1/40.9 MB 5.9 MB/s eta 0:00:03\n",
      "   ------------------------ --------------- 25.4/40.9 MB 5.9 MB/s eta 0:00:03\n",
      "   -------------------------- ------------- 26.7/40.9 MB 5.9 MB/s eta 0:00:03\n",
      "   --------------------------- ------------ 28.0/40.9 MB 6.0 MB/s eta 0:00:03\n",
      "   ---------------------------- ----------- 29.4/40.9 MB 6.0 MB/s eta 0:00:02\n",
      "   ----------------------------- ---------- 30.1/40.9 MB 5.9 MB/s eta 0:00:02\n",
      "   ------------------------------ --------- 30.9/40.9 MB 5.8 MB/s eta 0:00:02\n",
      "   ------------------------------ --------- 31.7/40.9 MB 5.8 MB/s eta 0:00:02\n",
      "   -------------------------------- ------- 32.8/40.9 MB 5.8 MB/s eta 0:00:02\n",
      "   --------------------------------- ------ 33.8/40.9 MB 5.7 MB/s eta 0:00:02\n",
      "   ---------------------------------- ----- 35.4/40.9 MB 5.8 MB/s eta 0:00:01\n",
      "   ----------------------------------- ---- 36.7/40.9 MB 5.8 MB/s eta 0:00:01\n",
      "   ------------------------------------- -- 38.0/40.9 MB 5.8 MB/s eta 0:00:01\n",
      "   -------------------------------------- - 39.3/40.9 MB 5.8 MB/s eta 0:00:01\n",
      "   ---------------------------------------  40.6/40.9 MB 5.8 MB/s eta 0:00:01\n",
      "   ---------------------------------------- 40.9/40.9 MB 5.9 MB/s eta 0:00:00\n",
      "Downloading six-1.17.0-py2.py3-none-any.whl (11 kB)\n",
      "Downloading contourpy-1.3.1-cp312-cp312-win_amd64.whl (220 kB)\n",
      "Downloading cycler-0.12.1-py3-none-any.whl (8.3 kB)\n",
      "Downloading fonttools-4.57.0-cp312-cp312-win_amd64.whl (2.2 MB)\n",
      "   ---------------------------------------- 0.0/2.2 MB ? eta -:--:--\n",
      "   ----------------------- ---------------- 1.3/2.2 MB 6.7 MB/s eta 0:00:01\n",
      "   ---------------------------------------- 2.2/2.2 MB 6.5 MB/s eta 0:00:00\n",
      "Downloading kiwisolver-1.4.8-cp312-cp312-win_amd64.whl (71 kB)\n",
      "Downloading narwhals-1.33.0-py3-none-any.whl (322 kB)\n",
      "Downloading packaging-24.2-py3-none-any.whl (65 kB)\n",
      "Downloading pillow-11.1.0-cp312-cp312-win_amd64.whl (2.6 MB)\n",
      "   ---------------------------------------- 0.0/2.6 MB ? eta -:--:--\n",
      "   ------------------- -------------------- 1.3/2.6 MB 6.1 MB/s eta 0:00:01\n",
      "   ---------------------------------------- 2.6/2.6 MB 6.3 MB/s eta 0:00:00\n",
      "Downloading pyparsing-3.2.3-py3-none-any.whl (111 kB)\n",
      "Downloading python_dateutil-2.9.0.post0-py2.py3-none-any.whl (229 kB)\n",
      "Downloading pytz-2025.2-py2.py3-none-any.whl (509 kB)\n",
      "Downloading tzdata-2025.2-py2.py3-none-any.whl (347 kB)\n",
      "Installing collected packages: pytz, tzdata, six, pyparsing, pillow, packaging, numpy, narwhals, kiwisolver, graphviz, fonttools, cycler, scipy, python-dateutil, plotly, contourpy, pandas, matplotlib, catboost\n",
      "  Attempting uninstall: pytz\n",
      "    Found existing installation: pytz 2024.1\n",
      "    Uninstalling pytz-2024.1:\n",
      "      Successfully uninstalled pytz-2024.1\n",
      "  Attempting uninstall: tzdata\n",
      "    Found existing installation: tzdata 2024.1\n",
      "    Uninstalling tzdata-2024.1:\n",
      "      Successfully uninstalled tzdata-2024.1\n",
      "  Attempting uninstall: six\n",
      "    Found existing installation: six 1.16.0\n",
      "    Uninstalling six-1.16.0:\n",
      "      Successfully uninstalled six-1.16.0\n",
      "  Attempting uninstall: pyparsing\n",
      "    Found existing installation: pyparsing 3.2.1\n",
      "    Uninstalling pyparsing-3.2.1:\n",
      "      Successfully uninstalled pyparsing-3.2.1\n",
      "  Attempting uninstall: pillow\n",
      "    Found existing installation: pillow 11.1.0\n",
      "    Uninstalling pillow-11.1.0:\n",
      "      Successfully uninstalled pillow-11.1.0\n",
      "  Attempting uninstall: packaging\n",
      "    Found existing installation: packaging 24.1\n",
      "    Uninstalling packaging-24.1:\n",
      "      Successfully uninstalled packaging-24.1\n",
      "  Attempting uninstall: numpy\n",
      "    Found existing installation: numpy 2.2.4\n",
      "    Uninstalling numpy-2.2.4:\n",
      "      Successfully uninstalled numpy-2.2.4\n",
      "  Attempting uninstall: narwhals\n",
      "    Found existing installation: narwhals 1.33.0\n",
      "    Uninstalling narwhals-1.33.0:\n",
      "      Successfully uninstalled narwhals-1.33.0\n",
      "  Attempting uninstall: kiwisolver\n",
      "    Found existing installation: kiwisolver 1.4.8\n",
      "    Uninstalling kiwisolver-1.4.8:\n",
      "      Successfully uninstalled kiwisolver-1.4.8\n",
      "  Attempting uninstall: graphviz\n",
      "    Found existing installation: graphviz 0.20.3\n",
      "    Uninstalling graphviz-0.20.3:\n",
      "      Successfully uninstalled graphviz-0.20.3\n",
      "  Attempting uninstall: fonttools\n",
      "    Found existing installation: fonttools 4.56.0\n",
      "    Uninstalling fonttools-4.56.0:\n",
      "      Successfully uninstalled fonttools-4.56.0\n",
      "  Attempting uninstall: cycler\n",
      "    Found existing installation: cycler 0.12.1\n",
      "    Uninstalling cycler-0.12.1:\n",
      "      Successfully uninstalled cycler-0.12.1\n",
      "  Attempting uninstall: scipy\n",
      "    Found existing installation: scipy 1.15.2\n",
      "    Uninstalling scipy-1.15.2:\n",
      "      Successfully uninstalled scipy-1.15.2\n",
      "  Attempting uninstall: python-dateutil\n",
      "    Found existing installation: python-dateutil 2.9.0.post0\n",
      "    Uninstalling python-dateutil-2.9.0.post0:\n",
      "      Successfully uninstalled python-dateutil-2.9.0.post0\n",
      "  Attempting uninstall: plotly\n",
      "    Found existing installation: plotly 6.0.1\n",
      "    Uninstalling plotly-6.0.1:\n",
      "      Successfully uninstalled plotly-6.0.1\n",
      "  Attempting uninstall: contourpy\n",
      "    Found existing installation: contourpy 1.3.1\n",
      "    Uninstalling contourpy-1.3.1:\n",
      "      Successfully uninstalled contourpy-1.3.1\n",
      "  Attempting uninstall: pandas\n",
      "    Found existing installation: pandas 2.2.2\n",
      "    Uninstalling pandas-2.2.2:\n",
      "      Successfully uninstalled pandas-2.2.2\n",
      "  Attempting uninstall: matplotlib\n",
      "    Found existing installation: matplotlib 3.10.1\n",
      "    Uninstalling matplotlib-3.10.1:\n"
     ]
    },
    {
     "name": "stderr",
     "output_type": "stream",
     "text": [
      "  WARNING: Failed to remove contents in a temporary directory 'C:\\Users\\SAIRAZEX\\AppData\\Local\\Programs\\Python\\Python312\\Lib\\site-packages\\~il'.\n",
      "  You can safely remove it manually.\n",
      "  WARNING: Failed to remove contents in a temporary directory 'C:\\Users\\SAIRAZEX\\AppData\\Local\\Programs\\Python\\Python312\\Lib\\site-packages\\~-mpy.libs'.\n",
      "  You can safely remove it manually.\n",
      "  WARNING: Failed to remove contents in a temporary directory 'C:\\Users\\SAIRAZEX\\AppData\\Local\\Programs\\Python\\Python312\\Lib\\site-packages\\~-mpy'.\n",
      "  You can safely remove it manually.\n",
      "  WARNING: Failed to remove contents in a temporary directory 'C:\\Users\\SAIRAZEX\\AppData\\Local\\Programs\\Python\\Python312\\Lib\\site-packages\\~iwisolver'.\n",
      "  You can safely remove it manually.\n",
      "  WARNING: Failed to remove contents in a temporary directory 'C:\\Users\\SAIRAZEX\\AppData\\Local\\Programs\\Python\\Python312\\Lib\\site-packages\\~cipy.libs'.\n",
      "  You can safely remove it manually.\n",
      "  WARNING: Failed to remove contents in a temporary directory 'C:\\Users\\SAIRAZEX\\AppData\\Local\\Programs\\Python\\Python312\\Lib\\site-packages\\~cipy'.\n",
      "  You can safely remove it manually.\n",
      "  WARNING: Failed to remove contents in a temporary directory 'C:\\Users\\SAIRAZEX\\AppData\\Local\\Programs\\Python\\Python312\\Lib\\site-packages\\~andas.libs'.\n",
      "  You can safely remove it manually.\n",
      "  WARNING: Failed to remove contents in a temporary directory 'C:\\Users\\SAIRAZEX\\AppData\\Local\\Programs\\Python\\Python312\\Lib\\site-packages\\~andas'.\n",
      "  You can safely remove it manually.\n",
      "ERROR: Could not install packages due to an OSError: [WinError 5] Access is denied: 'c:\\\\users\\\\sairazex\\\\appdata\\\\local\\\\programs\\\\python\\\\python312\\\\lib\\\\site-packages\\\\matplotlib\\\\backends\\\\_backend_agg.cp312-win_amd64.pyd'\n",
      "Consider using the `--user` option or check the permissions.\n",
      "\n"
     ]
    }
   ],
   "source": [
    "!pip install --upgrade numpy\n",
    "!pip install --force-reinstall --no-cache-dir catboost"
   ]
  },
  {
   "cell_type": "code",
   "execution_count": 13,
   "id": "50291fbc-e270-4c1a-af1d-69f58fb8e7e9",
   "metadata": {},
   "outputs": [
    {
     "ename": "ValueError",
     "evalue": "numpy.dtype size changed, may indicate binary incompatibility. Expected 96 from C header, got 88 from PyObject",
     "output_type": "error",
     "traceback": [
      "\u001b[31m---------------------------------------------------------------------------\u001b[39m",
      "\u001b[31mValueError\u001b[39m                                Traceback (most recent call last)",
      "\u001b[36mCell\u001b[39m\u001b[36m \u001b[39m\u001b[32mIn[13]\u001b[39m\u001b[32m, line 6\u001b[39m\n\u001b[32m      4\u001b[39m \u001b[38;5;66;03m# Load the model\u001b[39;00m\n\u001b[32m      5\u001b[39m model_filename = \u001b[33m'\u001b[39m\u001b[33mStackingEnsemble.joblib\u001b[39m\u001b[33m'\u001b[39m\n\u001b[32m----> \u001b[39m\u001b[32m6\u001b[39m loaded_model = \u001b[43mjoblib\u001b[49m\u001b[43m.\u001b[49m\u001b[43mload\u001b[49m\u001b[43m(\u001b[49m\u001b[43mmodel_filename\u001b[49m\u001b[43m)\u001b[49m\n\u001b[32m      8\u001b[39m \u001b[38;5;66;03m# List of features in the order required by the model\u001b[39;00m\n\u001b[32m      9\u001b[39m feature_order = [\n\u001b[32m     10\u001b[39m     \u001b[33m'\u001b[39m\u001b[33mRST Flag Count\u001b[39m\u001b[33m'\u001b[39m, \n\u001b[32m     11\u001b[39m     \u001b[33m'\u001b[39m\u001b[33mFwd Packet Length Max\u001b[39m\u001b[33m'\u001b[39m, \n\u001b[32m   (...)\u001b[39m\u001b[32m     29\u001b[39m     \u001b[33m'\u001b[39m\u001b[33mSubflow Bwd Bytes\u001b[39m\u001b[33m'\u001b[39m\n\u001b[32m     30\u001b[39m ]\n",
      "\u001b[36mFile \u001b[39m\u001b[32m~\\AppData\\Local\\Programs\\Python\\Python312\\Lib\\site-packages\\joblib\\numpy_pickle.py:658\u001b[39m, in \u001b[36mload\u001b[39m\u001b[34m(filename, mmap_mode)\u001b[39m\n\u001b[32m    652\u001b[39m             \u001b[38;5;28;01mif\u001b[39;00m \u001b[38;5;28misinstance\u001b[39m(fobj, \u001b[38;5;28mstr\u001b[39m):\n\u001b[32m    653\u001b[39m                 \u001b[38;5;66;03m# if the returned file object is a string, this means we\u001b[39;00m\n\u001b[32m    654\u001b[39m                 \u001b[38;5;66;03m# try to load a pickle file generated with an version of\u001b[39;00m\n\u001b[32m    655\u001b[39m                 \u001b[38;5;66;03m# Joblib so we load it with joblib compatibility function.\u001b[39;00m\n\u001b[32m    656\u001b[39m                 \u001b[38;5;28;01mreturn\u001b[39;00m load_compatibility(fobj)\n\u001b[32m--> \u001b[39m\u001b[32m658\u001b[39m             obj = \u001b[43m_unpickle\u001b[49m\u001b[43m(\u001b[49m\u001b[43mfobj\u001b[49m\u001b[43m,\u001b[49m\u001b[43m \u001b[49m\u001b[43mfilename\u001b[49m\u001b[43m,\u001b[49m\u001b[43m \u001b[49m\u001b[43mmmap_mode\u001b[49m\u001b[43m)\u001b[49m\n\u001b[32m    659\u001b[39m \u001b[38;5;28;01mreturn\u001b[39;00m obj\n",
      "\u001b[36mFile \u001b[39m\u001b[32m~\\AppData\\Local\\Programs\\Python\\Python312\\Lib\\site-packages\\joblib\\numpy_pickle.py:577\u001b[39m, in \u001b[36m_unpickle\u001b[39m\u001b[34m(fobj, filename, mmap_mode)\u001b[39m\n\u001b[32m    575\u001b[39m obj = \u001b[38;5;28;01mNone\u001b[39;00m\n\u001b[32m    576\u001b[39m \u001b[38;5;28;01mtry\u001b[39;00m:\n\u001b[32m--> \u001b[39m\u001b[32m577\u001b[39m     obj = \u001b[43munpickler\u001b[49m\u001b[43m.\u001b[49m\u001b[43mload\u001b[49m\u001b[43m(\u001b[49m\u001b[43m)\u001b[49m\n\u001b[32m    578\u001b[39m     \u001b[38;5;28;01mif\u001b[39;00m unpickler.compat_mode:\n\u001b[32m    579\u001b[39m         warnings.warn(\u001b[33m\"\u001b[39m\u001b[33mThe file \u001b[39m\u001b[33m'\u001b[39m\u001b[38;5;132;01m%s\u001b[39;00m\u001b[33m'\u001b[39m\u001b[33m has been generated with a \u001b[39m\u001b[33m\"\u001b[39m\n\u001b[32m    580\u001b[39m                       \u001b[33m\"\u001b[39m\u001b[33mjoblib version less than 0.10. \u001b[39m\u001b[33m\"\u001b[39m\n\u001b[32m    581\u001b[39m                       \u001b[33m\"\u001b[39m\u001b[33mPlease regenerate this pickle file.\u001b[39m\u001b[33m\"\u001b[39m\n\u001b[32m    582\u001b[39m                       % filename,\n\u001b[32m    583\u001b[39m                       \u001b[38;5;167;01mDeprecationWarning\u001b[39;00m, stacklevel=\u001b[32m3\u001b[39m)\n",
      "\u001b[36mFile \u001b[39m\u001b[32m~\\AppData\\Local\\Programs\\Python\\Python312\\Lib\\pickle.py:1205\u001b[39m, in \u001b[36m_Unpickler.load\u001b[39m\u001b[34m(self)\u001b[39m\n\u001b[32m   1203\u001b[39m             \u001b[38;5;28;01mraise\u001b[39;00m \u001b[38;5;167;01mEOFError\u001b[39;00m\n\u001b[32m   1204\u001b[39m         \u001b[38;5;28;01massert\u001b[39;00m \u001b[38;5;28misinstance\u001b[39m(key, bytes_types)\n\u001b[32m-> \u001b[39m\u001b[32m1205\u001b[39m         \u001b[43mdispatch\u001b[49m\u001b[43m[\u001b[49m\u001b[43mkey\u001b[49m\u001b[43m[\u001b[49m\u001b[32;43m0\u001b[39;49m\u001b[43m]\u001b[49m\u001b[43m]\u001b[49m\u001b[43m(\u001b[49m\u001b[38;5;28;43mself\u001b[39;49m\u001b[43m)\u001b[49m\n\u001b[32m   1206\u001b[39m \u001b[38;5;28;01mexcept\u001b[39;00m _Stop \u001b[38;5;28;01mas\u001b[39;00m stopinst:\n\u001b[32m   1207\u001b[39m     \u001b[38;5;28;01mreturn\u001b[39;00m stopinst.value\n",
      "\u001b[36mFile \u001b[39m\u001b[32m~\\AppData\\Local\\Programs\\Python\\Python312\\Lib\\pickle.py:1530\u001b[39m, in \u001b[36m_Unpickler.load_stack_global\u001b[39m\u001b[34m(self)\u001b[39m\n\u001b[32m   1528\u001b[39m \u001b[38;5;28;01mif\u001b[39;00m \u001b[38;5;28mtype\u001b[39m(name) \u001b[38;5;129;01mis\u001b[39;00m \u001b[38;5;129;01mnot\u001b[39;00m \u001b[38;5;28mstr\u001b[39m \u001b[38;5;129;01mor\u001b[39;00m \u001b[38;5;28mtype\u001b[39m(module) \u001b[38;5;129;01mis\u001b[39;00m \u001b[38;5;129;01mnot\u001b[39;00m \u001b[38;5;28mstr\u001b[39m:\n\u001b[32m   1529\u001b[39m     \u001b[38;5;28;01mraise\u001b[39;00m UnpicklingError(\u001b[33m\"\u001b[39m\u001b[33mSTACK_GLOBAL requires str\u001b[39m\u001b[33m\"\u001b[39m)\n\u001b[32m-> \u001b[39m\u001b[32m1530\u001b[39m \u001b[38;5;28mself\u001b[39m.append(\u001b[38;5;28;43mself\u001b[39;49m\u001b[43m.\u001b[49m\u001b[43mfind_class\u001b[49m\u001b[43m(\u001b[49m\u001b[43mmodule\u001b[49m\u001b[43m,\u001b[49m\u001b[43m \u001b[49m\u001b[43mname\u001b[49m\u001b[43m)\u001b[49m)\n",
      "\u001b[36mFile \u001b[39m\u001b[32m~\\AppData\\Local\\Programs\\Python\\Python312\\Lib\\pickle.py:1572\u001b[39m, in \u001b[36m_Unpickler.find_class\u001b[39m\u001b[34m(self, module, name)\u001b[39m\n\u001b[32m   1570\u001b[39m     \u001b[38;5;28;01melif\u001b[39;00m module \u001b[38;5;129;01min\u001b[39;00m _compat_pickle.IMPORT_MAPPING:\n\u001b[32m   1571\u001b[39m         module = _compat_pickle.IMPORT_MAPPING[module]\n\u001b[32m-> \u001b[39m\u001b[32m1572\u001b[39m \u001b[38;5;28;43m__import__\u001b[39;49m\u001b[43m(\u001b[49m\u001b[43mmodule\u001b[49m\u001b[43m,\u001b[49m\u001b[43m \u001b[49m\u001b[43mlevel\u001b[49m\u001b[43m=\u001b[49m\u001b[32;43m0\u001b[39;49m\u001b[43m)\u001b[49m\n\u001b[32m   1573\u001b[39m \u001b[38;5;28;01mif\u001b[39;00m \u001b[38;5;28mself\u001b[39m.proto >= \u001b[32m4\u001b[39m:\n\u001b[32m   1574\u001b[39m     \u001b[38;5;28;01mreturn\u001b[39;00m _getattribute(sys.modules[module], name)[\u001b[32m0\u001b[39m]\n",
      "\u001b[36mFile \u001b[39m\u001b[32m~\\AppData\\Local\\Programs\\Python\\Python312\\Lib\\site-packages\\catboost\\__init__.py:1\u001b[39m\n\u001b[32m----> \u001b[39m\u001b[32m1\u001b[39m \u001b[38;5;28;01mfrom\u001b[39;00m\u001b[38;5;250m \u001b[39m\u001b[34;01m.\u001b[39;00m\u001b[34;01mcore\u001b[39;00m\u001b[38;5;250m \u001b[39m\u001b[38;5;28;01mimport\u001b[39;00m (\n\u001b[32m      2\u001b[39m     FeaturesData, EFstrType, EShapCalcType, EFeaturesSelectionAlgorithm, EFeaturesSelectionGrouping,\n\u001b[32m      3\u001b[39m     Pool, CatBoost, CatBoostClassifier, CatBoostRegressor, CatBoostRanker, CatBoostError, cv, sample_gaussian_process, train,\n\u001b[32m      4\u001b[39m     sum_models, _have_equal_features, to_regressor, to_classifier, to_ranker, MultiRegressionCustomMetric,\n\u001b[32m      5\u001b[39m     MultiRegressionCustomObjective, MultiTargetCustomMetric, MultiTargetCustomObjective\n\u001b[32m      6\u001b[39m )  \u001b[38;5;66;03m# noqa\u001b[39;00m\n\u001b[32m      7\u001b[39m \u001b[38;5;28;01mfrom\u001b[39;00m\u001b[38;5;250m \u001b[39m\u001b[34;01m.\u001b[39;00m\u001b[34;01mversion\u001b[39;00m\u001b[38;5;250m \u001b[39m\u001b[38;5;28;01mimport\u001b[39;00m VERSION \u001b[38;5;28;01mas\u001b[39;00m __version__  \u001b[38;5;66;03m# noqa\u001b[39;00m\n\u001b[32m      8\u001b[39m __all__ = [\n\u001b[32m      9\u001b[39m     \u001b[33m'\u001b[39m\u001b[33mFeaturesData\u001b[39m\u001b[33m'\u001b[39m, \u001b[33m'\u001b[39m\u001b[33mEFstrType\u001b[39m\u001b[33m'\u001b[39m, \u001b[33m'\u001b[39m\u001b[33mEShapCalcType\u001b[39m\u001b[33m'\u001b[39m, \u001b[33m'\u001b[39m\u001b[33mEFeaturesSelectionAlgorithm\u001b[39m\u001b[33m'\u001b[39m, \u001b[33m'\u001b[39m\u001b[33mEFeaturesSelectionGrouping\u001b[39m\u001b[33m'\u001b[39m,\n\u001b[32m     10\u001b[39m     \u001b[33m'\u001b[39m\u001b[33mPool\u001b[39m\u001b[33m'\u001b[39m, \u001b[33m'\u001b[39m\u001b[33mCatBoost\u001b[39m\u001b[33m'\u001b[39m, \u001b[33m'\u001b[39m\u001b[33mCatBoostClassifier\u001b[39m\u001b[33m'\u001b[39m, \u001b[33m'\u001b[39m\u001b[33mCatBoostRegressor\u001b[39m\u001b[33m'\u001b[39m, \u001b[33m'\u001b[39m\u001b[33mCatBoostRanker\u001b[39m\u001b[33m'\u001b[39m, \u001b[33m'\u001b[39m\u001b[33mCatboostError\u001b[39m\u001b[33m'\u001b[39m,\n\u001b[32m   (...)\u001b[39m\u001b[32m     13\u001b[39m     \u001b[33m'\u001b[39m\u001b[33mMultiTargetCustomMetric\u001b[39m\u001b[33m'\u001b[39m, \u001b[33m'\u001b[39m\u001b[33mMultiTargetCustomObjective\u001b[39m\u001b[33m'\u001b[39m\n\u001b[32m     14\u001b[39m ]\n",
      "\u001b[36mFile \u001b[39m\u001b[32m~\\AppData\\Local\\Programs\\Python\\Python312\\Lib\\site-packages\\catboost\\core.py:45\u001b[39m\n\u001b[32m     40\u001b[39m         \u001b[38;5;28;01mpass\u001b[39;00m\n\u001b[32m     42\u001b[39m \u001b[38;5;28;01mimport\u001b[39;00m\u001b[38;5;250m \u001b[39m\u001b[34;01mscipy\u001b[39;00m\u001b[34;01m.\u001b[39;00m\u001b[34;01msparse\u001b[39;00m\n\u001b[32m---> \u001b[39m\u001b[32m45\u001b[39m \u001b[38;5;28;01mfrom\u001b[39;00m\u001b[38;5;250m \u001b[39m\u001b[34;01m.\u001b[39;00m\u001b[34;01mplot_helpers\u001b[39;00m\u001b[38;5;250m \u001b[39m\u001b[38;5;28;01mimport\u001b[39;00m save_plot_file, try_plot_offline, OfflineMetricVisualizer\n\u001b[32m     46\u001b[39m \u001b[38;5;28;01mfrom\u001b[39;00m\u001b[38;5;250m \u001b[39m\u001b[34;01m.\u001b[39;00m\u001b[38;5;250m \u001b[39m\u001b[38;5;28;01mimport\u001b[39;00m _catboost\n\u001b[32m     47\u001b[39m \u001b[38;5;28;01mfrom\u001b[39;00m\u001b[38;5;250m \u001b[39m\u001b[34;01m.\u001b[39;00m\u001b[34;01mmetrics\u001b[39;00m\u001b[38;5;250m \u001b[39m\u001b[38;5;28;01mimport\u001b[39;00m BuiltinMetric\n",
      "\u001b[36mFile \u001b[39m\u001b[32m~\\AppData\\Local\\Programs\\Python\\Python312\\Lib\\site-packages\\catboost\\plot_helpers.py:5\u001b[39m\n\u001b[32m      2\u001b[39m \u001b[38;5;28;01mimport\u001b[39;00m\u001b[38;5;250m \u001b[39m\u001b[34;01mos\u001b[39;00m\n\u001b[32m      3\u001b[39m \u001b[38;5;28;01mimport\u001b[39;00m\u001b[38;5;250m \u001b[39m\u001b[34;01mwarnings\u001b[39;00m\n\u001b[32m----> \u001b[39m\u001b[32m5\u001b[39m \u001b[38;5;28;01mfrom\u001b[39;00m\u001b[38;5;250m \u001b[39m\u001b[34;01m.\u001b[39;00m\u001b[38;5;250m \u001b[39m\u001b[38;5;28;01mimport\u001b[39;00m _catboost\n\u001b[32m      6\u001b[39m fspath = _catboost.fspath\n\u001b[32m      9\u001b[39m \u001b[38;5;28;01mdef\u001b[39;00m\u001b[38;5;250m \u001b[39m\u001b[34mtry_plot_offline\u001b[39m(figs):\n",
      "\u001b[36mFile \u001b[39m\u001b[32m_catboost.pyx:1\u001b[39m, in \u001b[36minit _catboost\u001b[39m\u001b[34m()\u001b[39m\n",
      "\u001b[31mValueError\u001b[39m: numpy.dtype size changed, may indicate binary incompatibility. Expected 96 from C header, got 88 from PyObject"
     ]
    }
   ],
   "source": [
    "import pandas as pd\n",
    "import joblib\n",
    "\n",
    "# Load the model\n",
    "model_filename = 'StackingEnsemble.joblib'\n",
    "loaded_model = joblib.load(model_filename)\n",
    "\n",
    "# List of features in the order required by the model\n",
    "feature_order = [\n",
    "    'RST Flag Count', \n",
    "    'Fwd Packet Length Max', \n",
    "    'Packet Length Std',\n",
    "    'Total Length of Fwd Packet', \n",
    "    'Packet Length Variance', \n",
    "    'Flow Bytes/s',\n",
    "    'Fwd Packet Length Mean', \n",
    "    'FIN Flag Count', \n",
    "    'Packet Length Max',\n",
    "    'Fwd RST Flags', \n",
    "    'Fwd Segment Size Avg', \n",
    "    'Packet Length Mean',\n",
    "    'Bwd Packet Length Std', \n",
    "    'Average Packet Size', \n",
    "    'Bwd Segment Size Avg',\n",
    "    'Bwd RST Flags', \n",
    "    'Bwd Packet Length Max', \n",
    "    'Flow IAT Mean',\n",
    "    'Bwd Packet Length Mean', \n",
    "    'Subflow Bwd Bytes'\n",
    "]\n",
    "\n",
    "# Extract the relevant features for prediction\n",
    "X = us_data[feature_order]\n",
    "\n",
    "# Run prediction\n",
    "predictions = loaded_model.predict(X)\n",
    "\n",
    "# Save predictions as a new DataFrame column\n",
    "predict_df = pd.DataFrame(predictions, columns=['Predicted'])\n",
    "\n",
    "# Concatenate predictions with original data\n",
    "predict_df = pd.concat([us_data.reset_index(drop=True), predict_df], axis=1)\n",
    "\n",
    "# Save to CSV\n",
    "predict_df.to_csv('datasets/usdata_stack.csv', index=False)\n",
    "\n",
    "print(\"Predictions saved to datasets/usdata_stack.csv\")"
   ]
  },
  {
   "cell_type": "code",
   "execution_count": null,
   "id": "191a2f80-82ab-4c07-8bb8-3c4fded6c02e",
   "metadata": {},
   "outputs": [],
   "source": [
    "import pandas as pd\n",
    "from sklearn.metrics import accuracy_score\n",
    "\n",
    "actual_data = pd.read_csv('real/REAL.csv')\n",
    "predicted_data = pd.read_csv('datasets/usdata_stack.csv')\n",
    "\n",
    "actual_labels = actual_data['Label']  \n",
    "predicted_labels = predicted_data['Category']  \n",
    "\n",
    "accuracy = accuracy_score(actual_labels, predicted_labels)\n",
    "print(accuracy)"
   ]
  },
  {
   "cell_type": "code",
   "execution_count": null,
   "id": "0baa4ccd-b5af-4c4b-888c-803af58d53f4",
   "metadata": {},
   "outputs": [],
   "source": [
    "us_data.head()"
   ]
  },
  {
   "cell_type": "code",
   "execution_count": null,
   "id": "821bf9d5-30c8-4938-be3a-e1a1681cb2cc",
   "metadata": {},
   "outputs": [],
   "source": [
    "us_data.head()"
   ]
  },
  {
   "cell_type": "code",
   "execution_count": null,
   "id": "f0a6b9aa-733e-4878-b94c-562504a13ab5",
   "metadata": {},
   "outputs": [],
   "source": [
    "from sklearn.preprocessing import LabelEncoder\n",
    "\n",
    "for col in us_data.columns:\n",
    "    if us_data[col].dtype == 'object':\n",
    "        label_encoder = LabelEncoder()\n",
    "        us_data[col] = label_encoder.fit_transform(us_data[col])"
   ]
  },
  {
   "cell_type": "code",
   "execution_count": null,
   "id": "20bfe454-525e-4272-bfef-f9684cc6bd53",
   "metadata": {},
   "outputs": [],
   "source": [
    "us_data.dtypes"
   ]
  },
  {
   "cell_type": "code",
   "execution_count": null,
   "id": "407278cc-db34-4bde-8826-91d9339177bc",
   "metadata": {},
   "outputs": [],
   "source": [
    "us_data.tail(100)"
   ]
  },
  {
   "cell_type": "code",
   "execution_count": null,
   "id": "dfa402b8-39ff-4a60-8f0f-4ad18f9c1518",
   "metadata": {},
   "outputs": [],
   "source": [
    "x_us = us_data.drop(columns=['Label'], errors='ignore')"
   ]
  },
  {
   "cell_type": "code",
   "execution_count": null,
   "id": "0303c651-bcc5-4c29-90ab-f0f7e22831ca",
   "metadata": {},
   "outputs": [],
   "source": [
    "import numpy as np\n",
    "\n",
    "print(np.any(np.isnan(x_us)))  # Check for NaN values\n",
    "print(np.any(np.isinf(x_us)))  # Check for infinite values"
   ]
  },
  {
   "cell_type": "code",
   "execution_count": null,
   "id": "35854be0-e805-429c-b7a4-3dcc0d997392",
   "metadata": {},
   "outputs": [],
   "source": [
    "x_us.replace([np.inf, -np.inf], np.nan, inplace=True)  # Replace infinite with NaN\n",
    "x_us.fillna(x_us.mean(), inplace=True)   # Fill NaNs after replacing infinities"
   ]
  },
  {
   "cell_type": "code",
   "execution_count": null,
   "id": "3eb2e0c8-3e16-4825-a458-41059a56d661",
   "metadata": {},
   "outputs": [],
   "source": [
    "x_us = scaler.transform(x_us)"
   ]
  },
  {
   "cell_type": "code",
   "execution_count": null,
   "id": "48c84e74-f80e-4b18-9c8c-619740def155",
   "metadata": {},
   "outputs": [],
   "source": [
    "#LOG REGRESS: Make predictions on the unseen data\n",
    "y_us_pred = lg_model.predict(x_us)"
   ]
  },
  {
   "cell_type": "code",
   "execution_count": null,
   "id": "3687309b-8da1-452d-9719-6a3dad457318",
   "metadata": {},
   "outputs": [],
   "source": [
    "y_us_pred"
   ]
  },
  {
   "cell_type": "code",
   "execution_count": null,
   "id": "acfab97e-9fd1-482e-88ff-5b8b41ead80a",
   "metadata": {},
   "outputs": [],
   "source": [
    "label_mapping = {\n",
    "    \"BENIGN\": 0,\n",
    "    \"Portscan\": 1,\n",
    "    \"DDoS\": 2,\n",
    "    \"Web Attack - Brute Force\": 3\n",
    "}\n",
    "\n",
    "num_to_label = {v: k for k, v in label_mapping.items()}\n",
    "y_us_pred_labels = [num_to_label[pred] for pred in y_us_pred]\n",
    "y_us_pred"
   ]
  },
  {
   "cell_type": "code",
   "execution_count": null,
   "id": "f8822e8f-b92c-47e6-8cf7-a9b247472e90",
   "metadata": {},
   "outputs": [],
   "source": [
    "predict_df = pd.DataFrame({\n",
    "    'Category': y_us_pred\n",
    "})"
   ]
  },
  {
   "cell_type": "code",
   "execution_count": null,
   "id": "dc112350-cb62-4c05-9ea8-93f4b361bb81",
   "metadata": {},
   "outputs": [],
   "source": [
    "predict_df = pd.concat([us_data.reset_index(drop=True), predict_df], axis=1)\n",
    "\n",
    "predict_df.to_csv('datasets/usdata_lg.csv', index=False) "
   ]
  },
  {
   "cell_type": "code",
   "execution_count": null,
   "id": "079d308a-1716-4e9b-9ad1-0952d1bc8348",
   "metadata": {},
   "outputs": [],
   "source": [
    "'''\n",
    "#DEC TREE: Make predictions on the unseen data\n",
    "import pickle\n",
    "import xgboost as xgb\n",
    "import numpy as np\n",
    "\n",
    "# Load the saved model\n",
    "with open('xgb.pkl', 'rb') as f:\n",
    "    bst_loaded = pickle.load(f)\n",
    "\n",
    "# Prepare the unseen data (x_unseen)\n",
    "dtest_unseen = xgb.DMatrix(x_us)\n",
    "\n",
    "# Predict using the loaded model on unseen data\n",
    "y_pred_proba_unseen = bst_loaded.predict(dtest_unseen)\n",
    "y_pred_unseen = (y_pred_proba_unseen > 0.5).astype(int)\n",
    "\n",
    "# Optionally, print or return the predictions\n",
    "print(y_us_pred) '''"
   ]
  },
  {
   "cell_type": "code",
   "execution_count": null,
   "id": "ee668e20-ee40-4fea-97fd-74acb901b789",
   "metadata": {},
   "outputs": [],
   "source": [
    "#DEC TREE: Make predictions on the unseen data\n",
    "y_us_pred = dt_model.predict(x_us)"
   ]
  },
  {
   "cell_type": "code",
   "execution_count": null,
   "id": "28df59fa-6adb-4cb2-ae07-679bceca0082",
   "metadata": {},
   "outputs": [],
   "source": [
    "y_us_pred"
   ]
  },
  {
   "cell_type": "code",
   "execution_count": null,
   "id": "d9f7d119-3b29-4513-99ef-c9e158145545",
   "metadata": {},
   "outputs": [],
   "source": [
    "label_mapping = {\n",
    "    \"BENIGN\": 0,\n",
    "    \"Portscan\": 1,\n",
    "    \"DDoS\": 2,\n",
    "    \"Web Attack - Brute Force\": 3\n",
    "}\n",
    "\n",
    "# Reverse mapping\n",
    "num_to_label = {v: k for k, v in label_mapping.items()}\n",
    "\n",
    "# Convert NumPy array to list before mapping\n",
    "y_us_pred_list = y_us_pred.tolist()\n",
    "\n",
    "# Convert numeric predictions to label names\n",
    "y_us_pred_labels = [num_to_label[pred] for pred in y_us_pred_list]"
   ]
  },
  {
   "cell_type": "code",
   "execution_count": null,
   "id": "4253f0bc-7b46-489a-969e-dade22894164",
   "metadata": {},
   "outputs": [],
   "source": [
    "predict_df = pd.DataFrame({\n",
    "    'Category': y_us_pred\n",
    "})"
   ]
  },
  {
   "cell_type": "code",
   "execution_count": null,
   "id": "32f96033-e8a6-4604-a95e-ebe213d61506",
   "metadata": {},
   "outputs": [],
   "source": [
    "predict_df = pd.concat([us_data.reset_index(drop=True), predict_df], axis=1)\n",
    "\n",
    "predict_df.to_csv('datasets/usdata_dt.csv', index=False)"
   ]
  },
  {
   "cell_type": "code",
   "execution_count": null,
   "id": "15d70e8d-b316-45ce-9b87-13cdd8fa32b9",
   "metadata": {},
   "outputs": [],
   "source": [
    "import pandas as pd\n",
    "from sklearn.metrics import accuracy_score\n",
    "\n",
    "actual_data = pd.read_csv('real/REAL.csv')\n",
    "predicted_data = pd.read_csv('datasets/usdata_lg.csv')\n",
    "\n",
    "actual_labels = actual_data['Label']  \n",
    "predicted_labels = predicted_data['Category']  \n",
    "\n",
    "accuracy = accuracy_score(actual_labels, predicted_labels)\n",
    "print(accuracy)"
   ]
  },
  {
   "cell_type": "code",
   "execution_count": null,
   "id": "f6f84a9b-b401-41b9-9e80-4d59ba694f17",
   "metadata": {},
   "outputs": [],
   "source": [
    "actual_data = pd.read_csv('real/REAL.csv')\n",
    "predicted_data = pd.read_csv('datasets/usdata_dt.csv')\n",
    "\n",
    "actual_labels = actual_data['Label']  \n",
    "predicted_labels = predicted_data['Category']  \n",
    "\n",
    "accuracy = accuracy_score(actual_labels, predicted_labels)\n",
    "print(accuracy)"
   ]
  }
 ],
 "metadata": {
  "kernelspec": {
   "display_name": "Python 3 (ipykernel)",
   "language": "python",
   "name": "python3"
  },
  "language_info": {
   "codemirror_mode": {
    "name": "ipython",
    "version": 3
   },
   "file_extension": ".py",
   "mimetype": "text/x-python",
   "name": "python",
   "nbconvert_exporter": "python",
   "pygments_lexer": "ipython3",
   "version": "3.12.1"
  }
 },
 "nbformat": 4,
 "nbformat_minor": 5
}
